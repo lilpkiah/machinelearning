{
 "cells": [
  {
   "cell_type": "code",
   "execution_count": 1,
   "id": "c97fe4c9-6dda-42e7-a572-5b7b6a81be7c",
   "metadata": {},
   "outputs": [],
   "source": [
    "import numpy as np\n",
    "import os\n",
    "import tensorflow as tf\n",
    "from tensorflow.keras.datasets import cifar10\n",
    "from tensorflow.keras.models import Sequential\n",
    "from tensorflow.keras.layers import Conv2D, MaxPooling2D\n",
    "from tensorflow.keras.layers import Flatten, Dense, Dropout\n",
    "from tensorflow.keras.optimizers import Adam, RMSprop\n",
    "from tensorflow.keras.preprocessing.image import ImageDataGenerator"
   ]
  },
  {
   "cell_type": "code",
   "execution_count": 2,
   "id": "8ab4f12e-f034-433c-9cb7-6835921eb727",
   "metadata": {},
   "outputs": [],
   "source": [
    "gen = ImageDataGenerator(rotation_range = 20,\n",
    "                         shear_range = 0.2,\n",
    "                         width_shift_range=0.2,\n",
    "                         height_shift_range=0.2,\n",
    "                         horizontal_flip=True)"
   ]
  },
  {
   "cell_type": "code",
   "execution_count": 3,
   "id": "279b03c7-46c7-4dd3-b37e-f83e371fa2ff",
   "metadata": {},
   "outputs": [],
   "source": [
    "(x_train, y_train), (x_test, y_test) = cifar10.load_data()\n",
    "\n",
    "x_train = x_train.astype(np.float32) / 255.0 #훈련 이미지 정규화\n",
    "x_test = x_test.astype(np.float32) / 255.0 #테스트 이미지 정규화"
   ]
  },
  {
   "cell_type": "code",
   "execution_count": 4,
   "id": "8142531c-4ef6-4f01-8b89-2da325e4d0c0",
   "metadata": {},
   "outputs": [
    {
     "name": "stdout",
     "output_type": "stream",
     "text": [
      "75000\n",
      "(75000, 32, 32, 3) (75000, 1)\n",
      "(75000, 32, 32, 3) (75000, 1)\n"
     ]
    }
   ],
   "source": [
    "augment_ratio = 1.5\n",
    "augment_size = int(augment_ratio * x_train.shape[0])\n",
    "\n",
    "print(augment_size)\n",
    "\n",
    "# 전체 x_train 개수의 150% 비율만큼\n",
    "randidx = np.random.randint(x_train.shape[0], size=augment_size)\n",
    "\n",
    "# 임의로 선택된 데이터는 원본데이터를 참조하기 때문에\n",
    "# 원본데이터에 영향을 줄 수 있음. 그래서 copy() 함수를 통해 안전하게 복사본 만듬\n",
    "x_augmented = x_train[randidx].copy()\n",
    "y_augmented = y_train[randidx].copy()\n",
    "\n",
    "print(x_augmented.shape, y_augmented.shape)\n",
    "\n",
    "# 이미지 보강 실행\n",
    "x_augmented, y_augmented = gen.flow(x_augmented, y_augmented,\n",
    "                                   batch_size=augment_size,\n",
    "                                   shuffle=False).next()\n",
    "\n",
    "print(x_augmented.shape, y_augmented.shape)\n"
   ]
  },
  {
   "cell_type": "code",
   "execution_count": 5,
   "id": "4f6e170b-e8b7-469b-a8d9-79ede564871d",
   "metadata": {},
   "outputs": [
    {
     "name": "stdout",
     "output_type": "stream",
     "text": [
      "(125000, 32, 32, 3) (125000, 1)\n"
     ]
    }
   ],
   "source": [
    "# x_train, y_train 에 보강된 데이터 추가\n",
    "\n",
    "x_train = np.concatenate( (x_train, x_augmented) )\n",
    "y_train = np.concatenate( (y_train, y_augmented) )\n",
    "\n",
    "print(x_train.shape, y_train.shape)"
   ]
  },
  {
   "cell_type": "code",
   "execution_count": 6,
   "id": "eb3e387e-ba8e-4caa-b95f-04c708ed2c99",
   "metadata": {},
   "outputs": [],
   "source": [
    "# CNN 모델 구축\n",
    "\n",
    "cnn = Sequential()\n",
    "\n",
    "cnn.add(Conv2D(32, (3,3), activation='relu', padding='same', input_shape=(32,32,3)))\n",
    "cnn.add(Conv2D(32, (3,3), activation='relu', padding='same'))\n",
    "cnn.add(MaxPooling2D(pool_size=(2,2)))\n",
    "cnn.add(Dropout(0.25))\n",
    "\n",
    "cnn.add(Conv2D(64, (3,3), activation='relu', padding='same'))\n",
    "cnn.add(Conv2D(64, (3,3), activation='relu', padding='same'))\n",
    "cnn.add(MaxPooling2D(pool_size=(2,2)))\n",
    "cnn.add(Dropout(0.25))\n",
    "\n",
    "cnn.add(Conv2D(128, (3,3), activation='relu', padding='same'))\n",
    "cnn.add(MaxPooling2D(pool_size=(2,2)))\n",
    "cnn.add(Dropout(0.25))\n",
    "\n",
    "cnn.add(Conv2D(128, (3,3), activation='relu', padding='same'))\n",
    "cnn.add(MaxPooling2D(pool_size=(2,2)))\n",
    "cnn.add(Dropout(0.25))\n",
    "\n",
    "cnn.add(Conv2D(256, (3,3), activation='relu', padding='same'))\n",
    "cnn.add(MaxPooling2D(pool_size=(2,2)))\n",
    "cnn.add(Dropout(0.25))\n",
    "\n",
    "cnn.add(Flatten())\n",
    "\n",
    "cnn.add(Dense(128, activation='relu'))\n",
    "cnn.add(Dropout(0.5))\n",
    "cnn.add(Dense(10, activation='softmax'))"
   ]
  },
  {
   "cell_type": "code",
   "execution_count": 8,
   "id": "17a200e7-6acc-4d5f-96a8-a88335fea735",
   "metadata": {},
   "outputs": [
    {
     "name": "stdout",
     "output_type": "stream",
     "text": [
      "Epoch 1/50\n",
      "489/489 [==============================] - 303s 618ms/step - loss: 1.5214 - accuracy: 0.4460 - val_loss: 1.3301 - val_accuracy: 0.5127\n",
      "Epoch 2/50\n",
      "489/489 [==============================] - 301s 616ms/step - loss: 1.2614 - accuracy: 0.5501 - val_loss: 0.9677 - val_accuracy: 0.6566\n",
      "Epoch 3/50\n",
      "489/489 [==============================] - 301s 615ms/step - loss: 1.1103 - accuracy: 0.6087 - val_loss: 0.8872 - val_accuracy: 0.6871\n",
      "Epoch 4/50\n",
      "489/489 [==============================] - 300s 614ms/step - loss: 1.0224 - accuracy: 0.6444 - val_loss: 0.8639 - val_accuracy: 0.6963\n",
      "Epoch 5/50\n",
      "489/489 [==============================] - 301s 615ms/step - loss: 0.9546 - accuracy: 0.6695 - val_loss: 0.7776 - val_accuracy: 0.7268\n",
      "Epoch 6/50\n",
      "489/489 [==============================] - 301s 615ms/step - loss: 0.9052 - accuracy: 0.6878 - val_loss: 0.7746 - val_accuracy: 0.7315\n",
      "Epoch 7/50\n",
      "489/489 [==============================] - 305s 624ms/step - loss: 0.8598 - accuracy: 0.7042 - val_loss: 0.6740 - val_accuracy: 0.7629\n",
      "Epoch 8/50\n",
      "489/489 [==============================] - 300s 614ms/step - loss: 0.8347 - accuracy: 0.7147 - val_loss: 0.6309 - val_accuracy: 0.7776\n",
      "Epoch 9/50\n",
      "489/489 [==============================] - 301s 615ms/step - loss: 0.8034 - accuracy: 0.7259 - val_loss: 0.6908 - val_accuracy: 0.7599\n",
      "Epoch 10/50\n",
      "489/489 [==============================] - 308s 629ms/step - loss: 0.7788 - accuracy: 0.7354 - val_loss: 0.6051 - val_accuracy: 0.7907\n",
      "Epoch 11/50\n",
      "489/489 [==============================] - 328s 672ms/step - loss: 0.7573 - accuracy: 0.7415 - val_loss: 0.6124 - val_accuracy: 0.7910\n",
      "Epoch 12/50\n",
      "489/489 [==============================] - 308s 629ms/step - loss: 0.7433 - accuracy: 0.7464 - val_loss: 0.6423 - val_accuracy: 0.7809\n",
      "Epoch 13/50\n",
      "489/489 [==============================] - 306s 626ms/step - loss: 0.7258 - accuracy: 0.7546 - val_loss: 0.6200 - val_accuracy: 0.7885\n",
      "Epoch 14/50\n",
      "489/489 [==============================] - 309s 631ms/step - loss: 0.7127 - accuracy: 0.7572 - val_loss: 0.6164 - val_accuracy: 0.7916\n",
      "Epoch 15/50\n",
      "489/489 [==============================] - 304s 621ms/step - loss: 0.6996 - accuracy: 0.7628 - val_loss: 0.5748 - val_accuracy: 0.8016\n",
      "Epoch 16/50\n",
      "489/489 [==============================] - 309s 632ms/step - loss: 0.6909 - accuracy: 0.7654 - val_loss: 0.5495 - val_accuracy: 0.8069\n",
      "Epoch 17/50\n",
      "489/489 [==============================] - 309s 631ms/step - loss: 0.6809 - accuracy: 0.7701 - val_loss: 0.5699 - val_accuracy: 0.8053\n",
      "Epoch 18/50\n",
      "489/489 [==============================] - 302s 618ms/step - loss: 0.6693 - accuracy: 0.7718 - val_loss: 0.5435 - val_accuracy: 0.8168\n",
      "Epoch 19/50\n",
      "489/489 [==============================] - 273s 558ms/step - loss: 0.6583 - accuracy: 0.7776 - val_loss: 0.5360 - val_accuracy: 0.8191\n",
      "Epoch 20/50\n",
      "489/489 [==============================] - 251s 514ms/step - loss: 0.6555 - accuracy: 0.7772 - val_loss: 0.5411 - val_accuracy: 0.8158\n",
      "Epoch 21/50\n",
      "489/489 [==============================] - 252s 516ms/step - loss: 0.6412 - accuracy: 0.7820 - val_loss: 0.5266 - val_accuracy: 0.8196\n",
      "Epoch 22/50\n",
      "489/489 [==============================] - 252s 515ms/step - loss: 0.6394 - accuracy: 0.7828 - val_loss: 0.5272 - val_accuracy: 0.8153\n",
      "Epoch 23/50\n",
      "489/489 [==============================] - 250s 511ms/step - loss: 0.6362 - accuracy: 0.7846 - val_loss: 0.5168 - val_accuracy: 0.8236\n",
      "Epoch 24/50\n",
      "489/489 [==============================] - 251s 514ms/step - loss: 0.6231 - accuracy: 0.7883 - val_loss: 0.5308 - val_accuracy: 0.8227\n",
      "Epoch 25/50\n",
      "489/489 [==============================] - 265s 541ms/step - loss: 0.6242 - accuracy: 0.7884 - val_loss: 0.5191 - val_accuracy: 0.8255\n",
      "Epoch 26/50\n",
      "489/489 [==============================] - 281s 575ms/step - loss: 0.6111 - accuracy: 0.7920 - val_loss: 0.5063 - val_accuracy: 0.8277\n",
      "Epoch 27/50\n",
      "489/489 [==============================] - 287s 586ms/step - loss: 0.6122 - accuracy: 0.7923 - val_loss: 0.4904 - val_accuracy: 0.8322\n",
      "Epoch 28/50\n",
      "489/489 [==============================] - 292s 596ms/step - loss: 0.6052 - accuracy: 0.7947 - val_loss: 0.4929 - val_accuracy: 0.8326\n",
      "Epoch 29/50\n",
      "489/489 [==============================] - 262s 536ms/step - loss: 0.6003 - accuracy: 0.7973 - val_loss: 0.5093 - val_accuracy: 0.8310\n",
      "Epoch 30/50\n",
      "489/489 [==============================] - 260s 532ms/step - loss: 0.5941 - accuracy: 0.7980 - val_loss: 0.5160 - val_accuracy: 0.8252\n",
      "Epoch 31/50\n",
      "489/489 [==============================] - 322s 659ms/step - loss: 0.5922 - accuracy: 0.7999 - val_loss: 0.5352 - val_accuracy: 0.8229\n",
      "Epoch 32/50\n",
      "489/489 [==============================] - 376s 769ms/step - loss: 0.5874 - accuracy: 0.8002 - val_loss: 0.5265 - val_accuracy: 0.8269\n",
      "Epoch 33/50\n",
      "489/489 [==============================] - 341s 698ms/step - loss: 0.5873 - accuracy: 0.8006 - val_loss: 0.4860 - val_accuracy: 0.8352\n",
      "Epoch 34/50\n",
      "489/489 [==============================] - 332s 680ms/step - loss: 0.5762 - accuracy: 0.8046 - val_loss: 0.4773 - val_accuracy: 0.8398\n",
      "Epoch 35/50\n",
      "489/489 [==============================] - 332s 679ms/step - loss: 0.5751 - accuracy: 0.8043 - val_loss: 0.4793 - val_accuracy: 0.8421\n",
      "Epoch 36/50\n",
      "489/489 [==============================] - 344s 703ms/step - loss: 0.5694 - accuracy: 0.8059 - val_loss: 0.5034 - val_accuracy: 0.8328\n",
      "Epoch 37/50\n",
      "489/489 [==============================] - 371s 758ms/step - loss: 0.5681 - accuracy: 0.8072 - val_loss: 0.4998 - val_accuracy: 0.8318\n",
      "Epoch 38/50\n",
      "489/489 [==============================] - 430s 880ms/step - loss: 0.5638 - accuracy: 0.8092 - val_loss: 0.4915 - val_accuracy: 0.8373\n",
      "Epoch 39/50\n",
      "489/489 [==============================] - 469s 959ms/step - loss: 0.5604 - accuracy: 0.8107 - val_loss: 0.4940 - val_accuracy: 0.8334\n",
      "Epoch 40/50\n",
      "489/489 [==============================] - 411s 840ms/step - loss: 0.5556 - accuracy: 0.8110 - val_loss: 0.4612 - val_accuracy: 0.8494\n",
      "Epoch 41/50\n",
      "489/489 [==============================] - 428s 875ms/step - loss: 0.5535 - accuracy: 0.8148 - val_loss: 0.5008 - val_accuracy: 0.8347\n",
      "Epoch 42/50\n",
      "489/489 [==============================] - 421s 860ms/step - loss: 0.5526 - accuracy: 0.8120 - val_loss: 0.4677 - val_accuracy: 0.8459\n",
      "Epoch 43/50\n",
      "489/489 [==============================] - 408s 835ms/step - loss: 0.5453 - accuracy: 0.8147 - val_loss: 0.4625 - val_accuracy: 0.8461\n",
      "Epoch 44/50\n",
      "489/489 [==============================] - 400s 818ms/step - loss: 0.5482 - accuracy: 0.8149 - val_loss: 0.4941 - val_accuracy: 0.8375\n",
      "Epoch 45/50\n",
      "489/489 [==============================] - 402s 822ms/step - loss: 0.5446 - accuracy: 0.8153 - val_loss: 0.4663 - val_accuracy: 0.8452\n",
      "Epoch 46/50\n",
      "489/489 [==============================] - 402s 821ms/step - loss: 0.5395 - accuracy: 0.8180 - val_loss: 0.4800 - val_accuracy: 0.8391\n",
      "Epoch 47/50\n",
      "489/489 [==============================] - 399s 817ms/step - loss: 0.5371 - accuracy: 0.8171 - val_loss: 0.4823 - val_accuracy: 0.8463\n",
      "Epoch 48/50\n",
      "489/489 [==============================] - 401s 820ms/step - loss: 0.5357 - accuracy: 0.8194 - val_loss: 0.4578 - val_accuracy: 0.8461\n",
      "Epoch 49/50\n",
      "489/489 [==============================] - 401s 820ms/step - loss: 0.5316 - accuracy: 0.8204 - val_loss: 0.4551 - val_accuracy: 0.8488\n",
      "Epoch 50/50\n",
      "489/489 [==============================] - 407s 832ms/step - loss: 0.5353 - accuracy: 0.8183 - val_loss: 0.4722 - val_accuracy: 0.8442\n",
      "Elapsed Time =>  4:34:27.375503\n"
     ]
    }
   ],
   "source": [
    "from datetime import datetime\n",
    "\n",
    "start_time = datetime.now()\n",
    "\n",
    "cnn.compile(loss='sparse_categorical_crossentropy', optimizer=Adam(), metrics=['accuracy'])\n",
    "\n",
    "hist = cnn.fit(x_train, y_train, batch_size=256, epochs=50, validation_data=(x_test, y_test))\n",
    "# 원래 epochs = 250\n",
    "end_time = datetime.now()\n",
    "\n",
    "print('Elapsed Time => ' , end_time-start_time)"
   ]
  },
  {
   "cell_type": "code",
   "execution_count": null,
   "id": "ea757381-f07e-4d7e-acba-073a934e5ba9",
   "metadata": {},
   "outputs": [],
   "source": [
    "cnn.evaluate(x_test, y_test)"
   ]
  },
  {
   "cell_type": "code",
   "execution_count": null,
   "id": "6b2f58ac-a9a9-4c7e-9263-76183749b2cb",
   "metadata": {},
   "outputs": [],
   "source": [
    "import matplotlib.pyplot as plt\n",
    "\n",
    "plt.plot(hist.history['accuracy'])\n",
    "plt.plot(hist.history['val_accuracy'])\n",
    "plt.title('Accuracy Trend')\n",
    "plt.ylabel('accuracy')\n",
    "plt.xlabel('epoch')\n",
    "plt.legend(['train', 'validation'], loc='best')\n",
    "plt.grid()\n",
    "plt.show()"
   ]
  },
  {
   "cell_type": "code",
   "execution_count": null,
   "id": "4ed7871d-2732-45cc-a795-a54773f6eb6d",
   "metadata": {},
   "outputs": [],
   "source": [
    "plt.plot(hist.history['loss'])\n",
    "plt.plot(hist.history['val_loss'])\n",
    "plt.title('Loss Trend')\n",
    "plt.ylabel('loss')\n",
    "plt.xlabel('epoch')\n",
    "plt.legend(['train', 'validation'], loc='best')\n",
    "plt.grid()\n",
    "plt.show()"
   ]
  },
  {
   "cell_type": "code",
   "execution_count": null,
   "id": "948e69e8-4371-4452-8af3-e243343616d0",
   "metadata": {},
   "outputs": [],
   "source": [
    "from sklearn.metrics import confusion_matrix\n",
    "import seaborn as sns\n",
    "\n",
    "plt.figure(figsize=(6,6))\n",
    "\n",
    "predicted_value = cnn.predict(x_test)\n",
    "\n",
    "cm = confusion_matrix(y_test,\n",
    "                     np.argmax(predicted_value, axis=1))\n",
    "sns.heatmap(cm, annot=True, fmt='d')\n",
    "plt.show()"
   ]
  }
 ],
 "metadata": {
  "kernelspec": {
   "display_name": "Python 3",
   "language": "python",
   "name": "python3"
  },
  "language_info": {
   "codemirror_mode": {
    "name": "ipython",
    "version": 3
   },
   "file_extension": ".py",
   "mimetype": "text/x-python",
   "name": "python",
   "nbconvert_exporter": "python",
   "pygments_lexer": "ipython3",
   "version": "3.8.8"
  }
 },
 "nbformat": 4,
 "nbformat_minor": 5
}
