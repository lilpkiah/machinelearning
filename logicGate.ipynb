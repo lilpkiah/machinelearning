{
 "cells": [
  {
   "cell_type": "code",
   "execution_count": 2,
   "id": "8e85e61e-df0a-40ae-90db-f9525eab075f",
   "metadata": {},
   "outputs": [],
   "source": [
    "import numpy as np\n",
    "\n",
    "def sigmoid(x):\n",
    "    return 1 / (1+np.exp(-x))\n",
    "\n",
    "# 수치미분 함수\n",
    "def numerical_derivative(f, x):\n",
    "    delta_x = 1e-4 # 0.001\n",
    "    grad = np.zeros_like(x)\n",
    "    \n",
    "    it = np.nditer(x, flags=['multi_index'], op_flags=['readwrite'])\n",
    "    \n",
    "    while not it.finished:\n",
    "        idx = it.multi_index\n",
    "        \n",
    "        tmp_val = x[idx]\n",
    "        x[idx] = float(tmp_val) + delta_x\n",
    "        fx1 = f(x)\n",
    "        \n",
    "        x[idx] = tmp_val - delta_x\n",
    "        fx2 = f(x)\n",
    "        grad[idx] = (fx1 - fx2) / (2*delta_x)\n",
    "        \n",
    "        x[idx] = tmp_val\n",
    "        it.iternext()\n",
    "        \n",
    "    return grad"
   ]
  },
  {
   "cell_type": "code",
   "execution_count": 38,
   "id": "d479b368-356b-4dee-a3d8-693871255115",
   "metadata": {},
   "outputs": [],
   "source": [
    "\n",
    "class LogicGate:\n",
    "    \n",
    "    def __init__(self, gate_name, xdata, tdata):\n",
    "        \n",
    "        self.name = gate_name\n",
    "        \n",
    "        # 입력 데이터, 정답 데이터 초기화\n",
    "        self.__xdata = xdata.reshape(4, 2)\n",
    "        self.__tdata = tdata.reshape(4, 1)\n",
    "        \n",
    "        self.__W = np.random.rand(2,1)\n",
    "        self.__b = np.random.rand(1)\n",
    "        \n",
    "        self.__learning_rate = 1e-2\n",
    "        \n",
    "    def __loss_func(self):\n",
    "        \n",
    "        delta = 1e-7\n",
    "        \n",
    "        z = np.dot(self.__xdata, self.__W) + self.__b\n",
    "        y = sigmoid(z)\n",
    "        \n",
    "        return -np.sum(self.__tdata * np.log(y + delta) + (1 - self.__tdata) * np.log((1 - y) + delta))\n",
    "    \n",
    "    def error_val(self):\n",
    "        \n",
    "        delta = 1e-7\n",
    "        \n",
    "        z = np.dot(self.__xdata, self.__W) + self.__b\n",
    "        y = sigmoid(z)\n",
    "        \n",
    "        return -np.sum(self.__tdata * np.log(y + delta) + (1 - self.__tdata) * np.log((1 - y) + delta))\n",
    "    \n",
    "    def train(self):\n",
    "        \n",
    "        f = lambda x : self.__loss_func()\n",
    "        \n",
    "        print('Initial error value = ', self.error_val())\n",
    "        \n",
    "        for step in range(8001):\n",
    "            \n",
    "            self.__W -= self.__learning_rate * numerical_derivative(f, self.__W)\n",
    "            self.__b -= self.__learning_rate * numerical_derivative(f, self.__b)\n",
    "            \n",
    "            if (step % 400 == 0):\n",
    "                print(\"step = \", step, \"error value = \", self.error_val())\n",
    "                \n",
    "    def predict(self, input_data):\n",
    "        \n",
    "        z = np.dot(input_data, self.__W) + self.__b\n",
    "        y = sigmoid(z)\n",
    "        \n",
    "        if y > 0.5:\n",
    "            result = 1\n",
    "        else:\n",
    "            result = 0\n",
    "            \n",
    "        return y, result"
   ]
  },
  {
   "cell_type": "code",
   "execution_count": 7,
   "id": "6df2fea9-cb5f-4b7c-af13-ce837b3b575e",
   "metadata": {
    "collapsed": true,
    "jupyter": {
     "outputs_hidden": true
    },
    "tags": []
   },
   "outputs": [
    {
     "name": "stdout",
     "output_type": "stream",
     "text": [
      "Initial error value =  5.410023878350042\n",
      "step =  0 error value =  16.118095350958335\n",
      "step =  400 error value =  16.118095350958335\n",
      "step =  800 error value =  16.118095350958335\n",
      "step =  1200 error value =  16.118095350958335\n",
      "step =  1600 error value =  16.118095350958335\n",
      "step =  2000 error value =  16.118095350958335\n",
      "step =  2400 error value =  16.118095350958335\n",
      "step =  2800 error value =  16.118095350958335\n",
      "step =  3200 error value =  16.118095350958335\n",
      "step =  3600 error value =  16.118095350958335\n",
      "step =  4000 error value =  16.118095350958335\n",
      "step =  4400 error value =  16.118095350958335\n",
      "step =  4800 error value =  16.118095350958335\n",
      "step =  5200 error value =  16.118095350958335\n",
      "step =  5600 error value =  16.118095350958335\n",
      "step =  6000 error value =  16.118095350958335\n",
      "step =  6400 error value =  16.118095350958335\n",
      "step =  6800 error value =  16.118095350958335\n",
      "step =  7200 error value =  16.118095350958335\n",
      "step =  7600 error value =  16.118095350958335\n",
      "step =  8000 error value =  16.118095350958335\n"
     ]
    }
   ],
   "source": [
    "xdata = np.array([[0,0], [0,1], [1,0], [1,1]])\n",
    "tdata = np.array([0,0,0,1])\n",
    "\n",
    "AND_obj = LogicGate(\"AND_GATE\", xdata, tdata)\n",
    "\n",
    "AND_obj.train()"
   ]
  },
  {
   "cell_type": "code",
   "execution_count": 8,
   "id": "874ef320-be8b-40cf-a5cb-45312648cdb7",
   "metadata": {},
   "outputs": [
    {
     "name": "stdout",
     "output_type": "stream",
     "text": [
      "AND_GATE \n",
      "\n",
      "[0 0]  =  0 \n",
      "\n",
      "[0 1]  =  0 \n",
      "\n",
      "[1 0]  =  0 \n",
      "\n",
      "[1 1]  =  0 \n",
      "\n"
     ]
    }
   ],
   "source": [
    "print(AND_obj.name, \"\\n\")\n",
    "\n",
    "test_data = np.array([[0,0], [0,1], [1,0], [1,1]])\n",
    "\n",
    "for input_data in test_data:\n",
    "    (sigmoid_val, logical_val) = AND_obj.predict(input_data)\n",
    "    print(input_data, \" = \", logical_val, \"\\n\")\n",
    "\n",
    "for data in test_data:\n",
    "    print(AND_obj.predict(data))"
   ]
  },
  {
   "cell_type": "code",
   "execution_count": 12,
   "id": "84c661b2-c1c5-4991-970a-80a57eff6f17",
   "metadata": {},
   "outputs": [
    {
     "name": "stdout",
     "output_type": "stream",
     "text": [
      "Initial error value =  1.7022870618009678\n",
      "step =  0 error value =  44.46269413705047\n",
      "step =  400 error value =  -3.999999802335482e-07\n",
      "step =  800 error value =  -3.999999802335482e-07\n",
      "step =  1200 error value =  -3.999999802335482e-07\n",
      "step =  1600 error value =  -3.999999802335482e-07\n",
      "step =  2000 error value =  -3.999999802335482e-07\n",
      "step =  2400 error value =  -3.999999802335482e-07\n",
      "step =  2800 error value =  -3.999999802335482e-07\n",
      "step =  3200 error value =  -3.999999802335482e-07\n",
      "step =  3600 error value =  -3.999999802335482e-07\n",
      "step =  4000 error value =  -3.999999802335482e-07\n",
      "step =  4400 error value =  -3.999999802335482e-07\n",
      "step =  4800 error value =  -3.999999802335482e-07\n",
      "step =  5200 error value =  -3.999999802335482e-07\n",
      "step =  5600 error value =  -3.999999802335482e-07\n",
      "step =  6000 error value =  -3.999999802335482e-07\n",
      "step =  6400 error value =  -3.999999802335482e-07\n",
      "step =  6800 error value =  -3.999999802335482e-07\n",
      "step =  7200 error value =  -3.999999802335482e-07\n",
      "step =  7600 error value =  -3.999999802335482e-07\n",
      "step =  8000 error value =  -3.999999802335482e-07\n"
     ]
    }
   ],
   "source": [
    "xdata = np.array([[0,0], [0,1], [1,0], [1,1]])\n",
    "tdata = np.array([0,1,1,1])\n",
    "\n",
    "OR_obj = LogicGate(\"OR_GATE\", xdata, tdata)\n",
    "\n",
    "OR_obj.train()"
   ]
  },
  {
   "cell_type": "code",
   "execution_count": 13,
   "id": "b48f5c0c-5073-4bbb-87e4-6763a1a80ba9",
   "metadata": {},
   "outputs": [
    {
     "name": "stdout",
     "output_type": "stream",
     "text": [
      "OR_GATE \n",
      "\n",
      "[0 0]  =  0 \n",
      "\n",
      "[0 1]  =  1 \n",
      "\n",
      "[1 0]  =  1 \n",
      "\n",
      "[1 1]  =  1 \n",
      "\n"
     ]
    }
   ],
   "source": [
    "print(OR_obj.name, \"\\n\")\n",
    "\n",
    "test_data = np.array([[0,0], [0,1], [1,0], [1,1]])\n",
    "\n",
    "for input_data in test_data:\n",
    "    (sigmoid_val, logical_val) = OR_obj.predict(input_data)\n",
    "    print(input_data, \" = \", logical_val, \"\\n\")\n",
    "    \n",
    "for data in test_data:\n",
    "    print(OR_obj.predict(data))"
   ]
  },
  {
   "cell_type": "code",
   "execution_count": 26,
   "id": "4a83243c-7ebc-42bb-83ff-5f697b3e4ebd",
   "metadata": {},
   "outputs": [
    {
     "name": "stdout",
     "output_type": "stream",
     "text": [
      "Initial error value =  2.9930299720353943\n",
      "step =  0 error value =  5.470951468790784e-05\n",
      "step =  400 error value =  1.0203353211953775e-05\n",
      "step =  800 error value =  5.52729389221318e-06\n",
      "step =  1200 error value =  3.731171306909711e-06\n",
      "step =  1600 error value =  2.778213374706791e-06\n",
      "step =  2000 error value =  2.1865895746106875e-06\n",
      "step =  2400 error value =  1.7830853451170134e-06\n",
      "step =  2800 error value =  1.4900412047356776e-06\n",
      "step =  3200 error value =  1.267418694063748e-06\n",
      "step =  3600 error value =  1.0924680509318898e-06\n",
      "step =  4000 error value =  9.512999403363998e-07\n",
      "step =  4400 error value =  8.349514853778852e-07\n",
      "step =  4800 error value =  7.373782204083103e-07\n",
      "step =  5200 error value =  6.543546243551792e-07\n",
      "step =  5600 error value =  5.82837155744423e-07\n",
      "step =  6000 error value =  5.205775531258724e-07\n",
      "step =  6400 error value =  4.658787359668547e-07\n",
      "step =  6800 error value =  4.174354527659259e-07\n",
      "step =  7200 error value =  3.742272557762605e-07\n",
      "step =  7600 error value =  3.354447214364512e-07\n",
      "step =  8000 error value =  3.0043753014184853e-07\n"
     ]
    }
   ],
   "source": [
    "xdata = np.array([[0,0], [0,1], [1,0], [1,1]])\n",
    "tdata = np.array([1,1,1,0])\n",
    "\n",
    "NAND_obj = LogicGate(\"NAND_GATE\", xdata, tdata)\n",
    "\n",
    "NAND_obj.train()"
   ]
  },
  {
   "cell_type": "code",
   "execution_count": 27,
   "id": "a422d48c-7424-4bb6-bd63-3fba001ea88d",
   "metadata": {},
   "outputs": [
    {
     "name": "stdout",
     "output_type": "stream",
     "text": [
      "NAND_GATE \n",
      "\n",
      "[0 0]  =  1 \n",
      "\n",
      "[0 1]  =  1 \n",
      "\n",
      "[1 0]  =  1 \n",
      "\n",
      "[1 1]  =  0 \n",
      "\n"
     ]
    }
   ],
   "source": [
    "print(NAND_obj.name, \"\\n\")\n",
    "\n",
    "test_data = np.array([[0,0], [0,1], [1,0], [1,1]])\n",
    "\n",
    "for input_data in test_data:\n",
    "    (sigmoid_val, logical_val) = NAND_obj.predict(input_data)\n",
    "    print(input_data, \" = \", logical_val, \"\\n\")\n",
    "    \n",
    "for data in test_data:\n",
    "    print(NAND_obj.predict(data))"
   ]
  },
  {
   "cell_type": "code",
   "execution_count": 28,
   "id": "a7b28c4a-a751-4bcc-b8a3-26b2b6a215fa",
   "metadata": {},
   "outputs": [
    {
     "name": "stdout",
     "output_type": "stream",
     "text": [
      "Initial error value =  2.863757440193667\n",
      "step =  0 error value =  32.23619110191665\n",
      "step =  400 error value =  32.23619110191665\n",
      "step =  800 error value =  32.23619110191665\n",
      "step =  1200 error value =  32.23619110191665\n",
      "step =  1600 error value =  32.23619110191665\n",
      "step =  2000 error value =  32.23619110191665\n",
      "step =  2400 error value =  32.23619110191665\n",
      "step =  2800 error value =  32.23619110191665\n",
      "step =  3200 error value =  32.23619110191665\n",
      "step =  3600 error value =  32.23619110191665\n",
      "step =  4000 error value =  32.23619110191665\n",
      "step =  4400 error value =  32.23619110191665\n",
      "step =  4800 error value =  32.23619110191665\n",
      "step =  5200 error value =  32.23619110191665\n",
      "step =  5600 error value =  32.23619110191665\n",
      "step =  6000 error value =  32.23619110191665\n",
      "step =  6400 error value =  32.23619110191665\n",
      "step =  6800 error value =  32.23619110191665\n",
      "step =  7200 error value =  32.23619110191665\n",
      "step =  7600 error value =  32.23619110191665\n",
      "step =  8000 error value =  32.23619110191665\n"
     ]
    }
   ],
   "source": [
    "xdata = np.array([[0,0], [0,1], [1,0], [1,1]])\n",
    "tdata = np.array([0,1,1,0])\n",
    "\n",
    "XOR_obj = LogicGate(\"XOR_GATE\", xdata, tdata)\n",
    "\n",
    "XOR_obj.train()"
   ]
  },
  {
   "cell_type": "code",
   "execution_count": 30,
   "id": "ba18df78-d7a3-4f6c-a0b6-36d43977d607",
   "metadata": {},
   "outputs": [
    {
     "name": "stdout",
     "output_type": "stream",
     "text": [
      "XOR_GATE \n",
      "\n",
      "[0 0]  =  0 \n",
      "\n",
      "[0 1]  =  0 \n",
      "\n",
      "[1 0]  =  0 \n",
      "\n",
      "[1 1]  =  0 \n",
      "\n",
      "(array([8.40543338e-22]), 0)\n",
      "(array([4.3219533e-34]), 0)\n",
      "(array([2.44088871e-30]), 0)\n",
      "(array([1.25506997e-42]), 0)\n"
     ]
    }
   ],
   "source": [
    "print(XOR_obj.name, \"\\n\")\n",
    "\n",
    "test_data = np.array([[0,0], [0,1], [1,0], [1,1]])\n",
    "\n",
    "for input_data in test_data:\n",
    "    (sigmoid_val, logical_val) = XOR_obj.predict(input_data)\n",
    "    print(input_data, \" = \", logical_val, \"\\n\")\n",
    "    \n",
    "for data in test_data:\n",
    "    print(XOR_obj.predict(data))"
   ]
  },
  {
   "cell_type": "code",
   "execution_count": 37,
   "id": "a7d3e6f5-5cc0-44f2-b22e-25a84350ccd0",
   "metadata": {},
   "outputs": [
    {
     "name": "stdout",
     "output_type": "stream",
     "text": [
      "[0 0]  =  0\n",
      "\n",
      "[0 1]  =  0\n",
      "\n",
      "[1 0]  =  0\n",
      "\n",
      "[1 1]  =  0\n",
      "\n"
     ]
    }
   ],
   "source": [
    "input_data = np.array([ [0,0], [0,1], [1,0], [1,1]])\n",
    "\n",
    "s1 = []\n",
    "s2 = []\n",
    "\n",
    "new_input_data = []\n",
    "final_output = []\n",
    "\n",
    "for index in range(len(input_data)):\n",
    "    \n",
    "    s1 = NAND_obj.predict(input_data[index])\n",
    "    s2 = OR_obj.predict(input_data[index])\n",
    "    \n",
    "    new_input_data.append(s1[-1])\n",
    "    new_input_data.append(s2[-1])\n",
    "    \n",
    "    (sigmoid_val, logical_val) = AND_obj.predict(np.array(new_input_data))\n",
    "    \n",
    "    final_output.append(logical_val)\n",
    "    new_input_data = []\n",
    "    \n",
    "for index in range(len(input_data)):\n",
    "    print(input_data[index], \" = \", final_output[index], end='')\n",
    "    print('\\n')"
   ]
  }
 ],
 "metadata": {
  "kernelspec": {
   "display_name": "Python 3",
   "language": "python",
   "name": "python3"
  },
  "language_info": {
   "codemirror_mode": {
    "name": "ipython",
    "version": 3
   },
   "file_extension": ".py",
   "mimetype": "text/x-python",
   "name": "python",
   "nbconvert_exporter": "python",
   "pygments_lexer": "ipython3",
   "version": "3.8.8"
  }
 },
 "nbformat": 4,
 "nbformat_minor": 5
}
