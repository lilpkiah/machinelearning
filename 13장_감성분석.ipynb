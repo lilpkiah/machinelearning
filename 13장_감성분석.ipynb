{
 "cells": [
  {
   "cell_type": "code",
   "execution_count": 1,
   "id": "b37beca5-32ea-4a26-bf0f-6a55f6798b68",
   "metadata": {},
   "outputs": [
    {
     "name": "stdout",
     "output_type": "stream",
     "text": [
      "\n",
      "INSTALLED VERSIONS\n",
      "------------------\n",
      "commit           : 2cb96529396d93b46abab7bbc73a208e708c642e\n",
      "python           : 3.8.8.final.0\n",
      "python-bits      : 64\n",
      "OS               : Windows\n",
      "OS-release       : 10\n",
      "Version          : 10.0.19041\n",
      "machine          : AMD64\n",
      "processor        : Intel64 Family 6 Model 142 Stepping 11, GenuineIntel\n",
      "byteorder        : little\n",
      "LC_ALL           : None\n",
      "LANG             : None\n",
      "LOCALE           : Korean_Korea.949\n",
      "\n",
      "pandas           : 1.2.4\n",
      "numpy            : 1.20.1\n",
      "pytz             : 2021.1\n",
      "dateutil         : 2.8.1\n",
      "pip              : 21.3.1\n",
      "setuptools       : 52.0.0.post20210125\n",
      "Cython           : 0.29.23\n",
      "pytest           : 6.2.3\n",
      "hypothesis       : None\n",
      "sphinx           : 4.0.1\n",
      "blosc            : None\n",
      "feather          : None\n",
      "xlsxwriter       : 1.3.8\n",
      "lxml.etree       : 4.6.3\n",
      "html5lib         : 1.1\n",
      "pymysql          : 1.0.2\n",
      "psycopg2         : None\n",
      "jinja2           : 2.11.3\n",
      "IPython          : 7.22.0\n",
      "pandas_datareader: None\n",
      "bs4              : 4.6.0\n",
      "bottleneck       : 1.3.2\n",
      "fsspec           : 0.9.0\n",
      "fastparquet      : None\n",
      "gcsfs            : None\n",
      "matplotlib       : 3.3.4\n",
      "numexpr          : 2.7.3\n",
      "odfpy            : None\n",
      "openpyxl         : 3.0.7\n",
      "pandas_gbq       : None\n",
      "pyarrow          : None\n",
      "pyxlsb           : None\n",
      "s3fs             : None\n",
      "scipy            : 1.6.2\n",
      "sqlalchemy       : 1.4.7\n",
      "tables           : 3.6.1\n",
      "tabulate         : None\n",
      "xarray           : None\n",
      "xlrd             : 2.0.1\n",
      "xlwt             : 1.3.0\n",
      "numba            : 0.53.1\n"
     ]
    }
   ],
   "source": [
    "import pandas as pd\n",
    "pd.show_versions()"
   ]
  },
  {
   "cell_type": "code",
   "execution_count": 2,
   "id": "01f4482b-b3d7-4a97-8b69-54b49122eac5",
   "metadata": {},
   "outputs": [
    {
     "data": {
      "text/plain": [
       "'1.2.4'"
      ]
     },
     "execution_count": 2,
     "metadata": {},
     "output_type": "execute_result"
    }
   ],
   "source": [
    "import pandas as pd\n",
    "pd.__version__"
   ]
  },
  {
   "cell_type": "code",
   "execution_count": 3,
   "id": "990a150f-f69c-4859-bd9a-b3b0b8b5c8f6",
   "metadata": {},
   "outputs": [],
   "source": [
    "import os\n",
    "os.environ[\"PYTHONIOENCODING\"] = \"utf-8\""
   ]
  },
  {
   "cell_type": "code",
   "execution_count": 4,
   "id": "dfa34819-2578-40f9-9dc3-aefef29d1410",
   "metadata": {},
   "outputs": [],
   "source": [
    "import warnings\n",
    "warnings.filterwarnings(action='ignore')"
   ]
  },
  {
   "cell_type": "code",
   "execution_count": 5,
   "id": "72aa327b-3383-4086-9dc4-c1f1c9fd4d34",
   "metadata": {},
   "outputs": [
    {
     "data": {
      "text/html": [
       "<div>\n",
       "<style scoped>\n",
       "    .dataframe tbody tr th:only-of-type {\n",
       "        vertical-align: middle;\n",
       "    }\n",
       "\n",
       "    .dataframe tbody tr th {\n",
       "        vertical-align: top;\n",
       "    }\n",
       "\n",
       "    .dataframe thead th {\n",
       "        text-align: right;\n",
       "    }\n",
       "</style>\n",
       "<table border=\"1\" class=\"dataframe\">\n",
       "  <thead>\n",
       "    <tr style=\"text-align: right;\">\n",
       "      <th></th>\n",
       "      <th>id</th>\n",
       "      <th>document</th>\n",
       "      <th>label</th>\n",
       "    </tr>\n",
       "  </thead>\n",
       "  <tbody>\n",
       "    <tr>\n",
       "      <th>0</th>\n",
       "      <td>9976970</td>\n",
       "      <td>아 더빙.. 진짜 짜증나네요 목소리</td>\n",
       "      <td>0</td>\n",
       "    </tr>\n",
       "    <tr>\n",
       "      <th>1</th>\n",
       "      <td>3819312</td>\n",
       "      <td>흠...포스터보고 초딩영화줄....오버연기조차 가볍지 않구나</td>\n",
       "      <td>1</td>\n",
       "    </tr>\n",
       "    <tr>\n",
       "      <th>2</th>\n",
       "      <td>10265843</td>\n",
       "      <td>너무재밓었다그래서보는것을추천한다</td>\n",
       "      <td>0</td>\n",
       "    </tr>\n",
       "    <tr>\n",
       "      <th>3</th>\n",
       "      <td>9045019</td>\n",
       "      <td>교도소 이야기구먼 ..솔직히 재미는 없다..평점 조정</td>\n",
       "      <td>0</td>\n",
       "    </tr>\n",
       "    <tr>\n",
       "      <th>4</th>\n",
       "      <td>6483659</td>\n",
       "      <td>사이몬페그의 익살스런 연기가 돋보였던 영화!스파이더맨에서 늙어보이기만 했던 커스틴 ...</td>\n",
       "      <td>1</td>\n",
       "    </tr>\n",
       "    <tr>\n",
       "      <th>...</th>\n",
       "      <td>...</td>\n",
       "      <td>...</td>\n",
       "      <td>...</td>\n",
       "    </tr>\n",
       "    <tr>\n",
       "      <th>149995</th>\n",
       "      <td>6222902</td>\n",
       "      <td>인간이 문제지.. 소는 뭔죄인가..</td>\n",
       "      <td>0</td>\n",
       "    </tr>\n",
       "    <tr>\n",
       "      <th>149996</th>\n",
       "      <td>8549745</td>\n",
       "      <td>평점이 너무 낮아서...</td>\n",
       "      <td>1</td>\n",
       "    </tr>\n",
       "    <tr>\n",
       "      <th>149997</th>\n",
       "      <td>9311800</td>\n",
       "      <td>이게 뭐요? 한국인은 거들먹거리고 필리핀 혼혈은 착하다?</td>\n",
       "      <td>0</td>\n",
       "    </tr>\n",
       "    <tr>\n",
       "      <th>149998</th>\n",
       "      <td>2376369</td>\n",
       "      <td>청춘 영화의 최고봉.방황과 우울했던 날들의 자화상</td>\n",
       "      <td>1</td>\n",
       "    </tr>\n",
       "    <tr>\n",
       "      <th>149999</th>\n",
       "      <td>9619869</td>\n",
       "      <td>한국 영화 최초로 수간하는 내용이 담긴 영화</td>\n",
       "      <td>0</td>\n",
       "    </tr>\n",
       "  </tbody>\n",
       "</table>\n",
       "<p>150000 rows × 3 columns</p>\n",
       "</div>"
      ],
      "text/plain": [
       "              id                                           document  label\n",
       "0        9976970                                아 더빙.. 진짜 짜증나네요 목소리      0\n",
       "1        3819312                  흠...포스터보고 초딩영화줄....오버연기조차 가볍지 않구나      1\n",
       "2       10265843                                  너무재밓었다그래서보는것을추천한다      0\n",
       "3        9045019                      교도소 이야기구먼 ..솔직히 재미는 없다..평점 조정      0\n",
       "4        6483659  사이몬페그의 익살스런 연기가 돋보였던 영화!스파이더맨에서 늙어보이기만 했던 커스틴 ...      1\n",
       "...          ...                                                ...    ...\n",
       "149995   6222902                                인간이 문제지.. 소는 뭔죄인가..      0\n",
       "149996   8549745                                      평점이 너무 낮아서...      1\n",
       "149997   9311800                    이게 뭐요? 한국인은 거들먹거리고 필리핀 혼혈은 착하다?      0\n",
       "149998   2376369                        청춘 영화의 최고봉.방황과 우울했던 날들의 자화상      1\n",
       "149999   9619869                           한국 영화 최초로 수간하는 내용이 담긴 영화      0\n",
       "\n",
       "[150000 rows x 3 columns]"
      ]
     },
     "execution_count": 5,
     "metadata": {},
     "output_type": "execute_result"
    }
   ],
   "source": [
    "nsmc_train_df = pd.read_csv('data/ratings_train.txt', encoding='utf8', sep='\\t', engine='python')\n",
    "nsmc_train_df"
   ]
  },
  {
   "cell_type": "code",
   "execution_count": 6,
   "id": "6b55fcf2-64b3-43ec-bbef-5b77f2a28327",
   "metadata": {},
   "outputs": [
    {
     "name": "stdout",
     "output_type": "stream",
     "text": [
      "<class 'pandas.core.frame.DataFrame'>\n",
      "RangeIndex: 150000 entries, 0 to 149999\n",
      "Data columns (total 3 columns):\n",
      " #   Column    Non-Null Count   Dtype \n",
      "---  ------    --------------   ----- \n",
      " 0   id        150000 non-null  int64 \n",
      " 1   document  149995 non-null  object\n",
      " 2   label     150000 non-null  int64 \n",
      "dtypes: int64(2), object(1)\n",
      "memory usage: 3.4+ MB\n"
     ]
    }
   ],
   "source": [
    "nsmc_train_df.info()"
   ]
  },
  {
   "cell_type": "code",
   "execution_count": 7,
   "id": "b6096408-746c-4e72-8158-c2eabf167e74",
   "metadata": {},
   "outputs": [],
   "source": [
    "nsmc_train_df = nsmc_train_df[nsmc_train_df['document'].notnull()]"
   ]
  },
  {
   "cell_type": "code",
   "execution_count": 8,
   "id": "91750be9-605c-4a93-865c-3d26c34ac392",
   "metadata": {},
   "outputs": [
    {
     "name": "stdout",
     "output_type": "stream",
     "text": [
      "<class 'pandas.core.frame.DataFrame'>\n",
      "Int64Index: 149995 entries, 0 to 149999\n",
      "Data columns (total 3 columns):\n",
      " #   Column    Non-Null Count   Dtype \n",
      "---  ------    --------------   ----- \n",
      " 0   id        149995 non-null  int64 \n",
      " 1   document  149995 non-null  object\n",
      " 2   label     149995 non-null  int64 \n",
      "dtypes: int64(2), object(1)\n",
      "memory usage: 4.6+ MB\n"
     ]
    }
   ],
   "source": [
    "nsmc_train_df.info()"
   ]
  },
  {
   "cell_type": "code",
   "execution_count": 9,
   "id": "0ca5df3e-f93a-448b-b0a1-b32d6dfbdbd4",
   "metadata": {},
   "outputs": [
    {
     "data": {
      "text/plain": [
       "0    75170\n",
       "1    74825\n",
       "Name: label, dtype: int64"
      ]
     },
     "execution_count": 9,
     "metadata": {},
     "output_type": "execute_result"
    }
   ],
   "source": [
    "nsmc_train_df['label'].value_counts()"
   ]
  },
  {
   "cell_type": "code",
   "execution_count": 10,
   "id": "7a3d1c22-ce01-46eb-99d8-8b9486cb073c",
   "metadata": {},
   "outputs": [],
   "source": [
    "import re"
   ]
  },
  {
   "cell_type": "code",
   "execution_count": 11,
   "id": "cc7f9c5f-1043-4624-924a-f9a0d39b4c03",
   "metadata": {},
   "outputs": [
    {
     "data": {
      "text/html": [
       "<div>\n",
       "<style scoped>\n",
       "    .dataframe tbody tr th:only-of-type {\n",
       "        vertical-align: middle;\n",
       "    }\n",
       "\n",
       "    .dataframe tbody tr th {\n",
       "        vertical-align: top;\n",
       "    }\n",
       "\n",
       "    .dataframe thead th {\n",
       "        text-align: right;\n",
       "    }\n",
       "</style>\n",
       "<table border=\"1\" class=\"dataframe\">\n",
       "  <thead>\n",
       "    <tr style=\"text-align: right;\">\n",
       "      <th></th>\n",
       "      <th>id</th>\n",
       "      <th>document</th>\n",
       "      <th>label</th>\n",
       "    </tr>\n",
       "  </thead>\n",
       "  <tbody>\n",
       "    <tr>\n",
       "      <th>0</th>\n",
       "      <td>9976970</td>\n",
       "      <td>아 더빙  진짜 짜증나네요 목소리</td>\n",
       "      <td>0</td>\n",
       "    </tr>\n",
       "    <tr>\n",
       "      <th>1</th>\n",
       "      <td>3819312</td>\n",
       "      <td>흠 포스터보고 초딩영화줄 오버연기조차 가볍지 않구나</td>\n",
       "      <td>1</td>\n",
       "    </tr>\n",
       "    <tr>\n",
       "      <th>2</th>\n",
       "      <td>10265843</td>\n",
       "      <td>너무재밓었다그래서보는것을추천한다</td>\n",
       "      <td>0</td>\n",
       "    </tr>\n",
       "    <tr>\n",
       "      <th>3</th>\n",
       "      <td>9045019</td>\n",
       "      <td>교도소 이야기구먼  솔직히 재미는 없다 평점 조정</td>\n",
       "      <td>0</td>\n",
       "    </tr>\n",
       "    <tr>\n",
       "      <th>4</th>\n",
       "      <td>6483659</td>\n",
       "      <td>사이몬페그의 익살스런 연기가 돋보였던 영화 스파이더맨에서 늙어보이기만 했던 커스틴 ...</td>\n",
       "      <td>1</td>\n",
       "    </tr>\n",
       "  </tbody>\n",
       "</table>\n",
       "</div>"
      ],
      "text/plain": [
       "         id                                           document  label\n",
       "0   9976970                                 아 더빙  진짜 짜증나네요 목소리      0\n",
       "1   3819312                       흠 포스터보고 초딩영화줄 오버연기조차 가볍지 않구나      1\n",
       "2  10265843                                  너무재밓었다그래서보는것을추천한다      0\n",
       "3   9045019                        교도소 이야기구먼  솔직히 재미는 없다 평점 조정      0\n",
       "4   6483659  사이몬페그의 익살스런 연기가 돋보였던 영화 스파이더맨에서 늙어보이기만 했던 커스틴 ...      1"
      ]
     },
     "execution_count": 11,
     "metadata": {},
     "output_type": "execute_result"
    }
   ],
   "source": [
    "nsmc_train_df['document'] = nsmc_train_df['document'].apply(lambda x : re.sub(r'[^ 가-힣]+', \" \", x))\n",
    "nsmc_train_df.head()"
   ]
  },
  {
   "cell_type": "code",
   "execution_count": 12,
   "id": "58e6cd6e-1d43-4459-8827-5c6b706efa78",
   "metadata": {},
   "outputs": [
    {
     "data": {
      "text/html": [
       "<div>\n",
       "<style scoped>\n",
       "    .dataframe tbody tr th:only-of-type {\n",
       "        vertical-align: middle;\n",
       "    }\n",
       "\n",
       "    .dataframe tbody tr th {\n",
       "        vertical-align: top;\n",
       "    }\n",
       "\n",
       "    .dataframe thead th {\n",
       "        text-align: right;\n",
       "    }\n",
       "</style>\n",
       "<table border=\"1\" class=\"dataframe\">\n",
       "  <thead>\n",
       "    <tr style=\"text-align: right;\">\n",
       "      <th></th>\n",
       "      <th>id</th>\n",
       "      <th>document</th>\n",
       "      <th>label</th>\n",
       "    </tr>\n",
       "  </thead>\n",
       "  <tbody>\n",
       "    <tr>\n",
       "      <th>0</th>\n",
       "      <td>6270596</td>\n",
       "      <td>굳 ㅋ</td>\n",
       "      <td>1</td>\n",
       "    </tr>\n",
       "    <tr>\n",
       "      <th>1</th>\n",
       "      <td>9274899</td>\n",
       "      <td>GDNTOPCLASSINTHECLUB</td>\n",
       "      <td>0</td>\n",
       "    </tr>\n",
       "    <tr>\n",
       "      <th>2</th>\n",
       "      <td>8544678</td>\n",
       "      <td>뭐야 이 평점들은.... 나쁘진 않지만 10점 짜리는 더더욱 아니잖아</td>\n",
       "      <td>0</td>\n",
       "    </tr>\n",
       "    <tr>\n",
       "      <th>3</th>\n",
       "      <td>6825595</td>\n",
       "      <td>지루하지는 않은데 완전 막장임... 돈주고 보기에는....</td>\n",
       "      <td>0</td>\n",
       "    </tr>\n",
       "    <tr>\n",
       "      <th>4</th>\n",
       "      <td>6723715</td>\n",
       "      <td>3D만 아니었어도 별 다섯 개 줬을텐데.. 왜 3D로 나와서 제 심기를 불편하게 하죠??</td>\n",
       "      <td>0</td>\n",
       "    </tr>\n",
       "  </tbody>\n",
       "</table>\n",
       "</div>"
      ],
      "text/plain": [
       "        id                                           document  label\n",
       "0  6270596                                                굳 ㅋ      1\n",
       "1  9274899                               GDNTOPCLASSINTHECLUB      0\n",
       "2  8544678             뭐야 이 평점들은.... 나쁘진 않지만 10점 짜리는 더더욱 아니잖아      0\n",
       "3  6825595                   지루하지는 않은데 완전 막장임... 돈주고 보기에는....      0\n",
       "4  6723715  3D만 아니었어도 별 다섯 개 줬을텐데.. 왜 3D로 나와서 제 심기를 불편하게 하죠??      0"
      ]
     },
     "execution_count": 12,
     "metadata": {},
     "output_type": "execute_result"
    }
   ],
   "source": [
    "nsmc_test_df = pd.read_csv('data/ratings_test.txt', encoding='utf8', sep='\\t', engine='python')\n",
    "nsmc_test_df.head()"
   ]
  },
  {
   "cell_type": "code",
   "execution_count": 13,
   "id": "eba8edde-bbc9-4139-8b5f-6fa6344f3935",
   "metadata": {},
   "outputs": [
    {
     "name": "stdout",
     "output_type": "stream",
     "text": [
      "<class 'pandas.core.frame.DataFrame'>\n",
      "RangeIndex: 50000 entries, 0 to 49999\n",
      "Data columns (total 3 columns):\n",
      " #   Column    Non-Null Count  Dtype \n",
      "---  ------    --------------  ----- \n",
      " 0   id        50000 non-null  int64 \n",
      " 1   document  49997 non-null  object\n",
      " 2   label     50000 non-null  int64 \n",
      "dtypes: int64(2), object(1)\n",
      "memory usage: 1.1+ MB\n"
     ]
    }
   ],
   "source": [
    "nsmc_test_df.info()"
   ]
  },
  {
   "cell_type": "code",
   "execution_count": 14,
   "id": "8e6c4586-6dfc-4e22-8e2d-19589c6d106e",
   "metadata": {},
   "outputs": [],
   "source": [
    "nsmc_test_df = nsmc_test_df[nsmc_test_df['document'].notnull()]"
   ]
  },
  {
   "cell_type": "code",
   "execution_count": 15,
   "id": "36f78d54-ad28-492c-ab6d-70c9654814f7",
   "metadata": {},
   "outputs": [
    {
     "data": {
      "text/plain": [
       "1    25171\n",
       "0    24826\n",
       "Name: label, dtype: int64"
      ]
     },
     "execution_count": 15,
     "metadata": {},
     "output_type": "execute_result"
    }
   ],
   "source": [
    "nsmc_test_df['label'].value_counts()"
   ]
  },
  {
   "cell_type": "code",
   "execution_count": 16,
   "id": "87218b0c-13c3-4d1a-8c08-dc64c8e8594d",
   "metadata": {},
   "outputs": [
    {
     "data": {
      "text/html": [
       "<div>\n",
       "<style scoped>\n",
       "    .dataframe tbody tr th:only-of-type {\n",
       "        vertical-align: middle;\n",
       "    }\n",
       "\n",
       "    .dataframe tbody tr th {\n",
       "        vertical-align: top;\n",
       "    }\n",
       "\n",
       "    .dataframe thead th {\n",
       "        text-align: right;\n",
       "    }\n",
       "</style>\n",
       "<table border=\"1\" class=\"dataframe\">\n",
       "  <thead>\n",
       "    <tr style=\"text-align: right;\">\n",
       "      <th></th>\n",
       "      <th>id</th>\n",
       "      <th>document</th>\n",
       "      <th>label</th>\n",
       "    </tr>\n",
       "  </thead>\n",
       "  <tbody>\n",
       "    <tr>\n",
       "      <th>0</th>\n",
       "      <td>6270596</td>\n",
       "      <td>굳</td>\n",
       "      <td>1</td>\n",
       "    </tr>\n",
       "    <tr>\n",
       "      <th>1</th>\n",
       "      <td>9274899</td>\n",
       "      <td></td>\n",
       "      <td>0</td>\n",
       "    </tr>\n",
       "    <tr>\n",
       "      <th>2</th>\n",
       "      <td>8544678</td>\n",
       "      <td>뭐야 이 평점들은  나쁘진 않지만  점 짜리는 더더욱 아니잖아</td>\n",
       "      <td>0</td>\n",
       "    </tr>\n",
       "    <tr>\n",
       "      <th>3</th>\n",
       "      <td>6825595</td>\n",
       "      <td>지루하지는 않은데 완전 막장임  돈주고 보기에는</td>\n",
       "      <td>0</td>\n",
       "    </tr>\n",
       "    <tr>\n",
       "      <th>4</th>\n",
       "      <td>6723715</td>\n",
       "      <td>만 아니었어도 별 다섯 개 줬을텐데  왜  로 나와서 제 심기를 불편하게 하죠</td>\n",
       "      <td>0</td>\n",
       "    </tr>\n",
       "  </tbody>\n",
       "</table>\n",
       "</div>"
      ],
      "text/plain": [
       "        id                                       document  label\n",
       "0  6270596                                            굳        1\n",
       "1  9274899                                                     0\n",
       "2  8544678             뭐야 이 평점들은  나쁘진 않지만  점 짜리는 더더욱 아니잖아      0\n",
       "3  6825595                    지루하지는 않은데 완전 막장임  돈주고 보기에는       0\n",
       "4  6723715   만 아니었어도 별 다섯 개 줬을텐데  왜  로 나와서 제 심기를 불편하게 하죠       0"
      ]
     },
     "execution_count": 16,
     "metadata": {},
     "output_type": "execute_result"
    }
   ],
   "source": [
    "nsmc_test_df['document'] = nsmc_test_df['document'].apply(lambda x : re.sub(r'[^ 가-힣]+', \" \", x))\n",
    "nsmc_test_df.head()"
   ]
  },
  {
   "cell_type": "code",
   "execution_count": 17,
   "id": "e168d106-44d4-414d-9487-0f471e2cc2af",
   "metadata": {},
   "outputs": [],
   "source": [
    "from konlpy.tag import Okt\n",
    "okt = Okt()"
   ]
  },
  {
   "cell_type": "code",
   "execution_count": 18,
   "id": "a4dc4535-1a3a-4e85-93c9-29ae6c57dbf4",
   "metadata": {},
   "outputs": [],
   "source": [
    "def okt_tokenizer(text):\n",
    "    tokens = okt.morphs(text)\n",
    "    return tokens"
   ]
  },
  {
   "cell_type": "code",
   "execution_count": 19,
   "id": "46faee61-a15c-49d9-80eb-11f21006fb4b",
   "metadata": {},
   "outputs": [],
   "source": [
    "from sklearn.feature_extraction.text import TfidfVectorizer\n",
    "tfidf = TfidfVectorizer(tokenizer = okt_tokenizer, ngram_range = (1, 2), min_df = 3, max_df = 0.9)\n",
    "tfidf.fit(nsmc_train_df['document'])\n",
    "nsmc_train_tfidf = tfidf.transform(nsmc_train_df['document'])"
   ]
  },
  {
   "cell_type": "code",
   "execution_count": 20,
   "id": "26bbcc05-e595-4b25-b8c5-603e8e5b8f6f",
   "metadata": {},
   "outputs": [],
   "source": [
    "from sklearn.linear_model import LogisticRegression\n",
    "SA_lr = LogisticRegression(random_state = 0)"
   ]
  },
  {
   "cell_type": "code",
   "execution_count": 21,
   "id": "a7c7085a-f8cd-416d-a624-3fb737774985",
   "metadata": {},
   "outputs": [
    {
     "data": {
      "text/plain": [
       "LogisticRegression(random_state=0)"
      ]
     },
     "execution_count": 21,
     "metadata": {},
     "output_type": "execute_result"
    }
   ],
   "source": [
    "SA_lr.fit(nsmc_train_tfidf, nsmc_train_df['label'])"
   ]
  },
  {
   "cell_type": "code",
   "execution_count": 22,
   "id": "5984dc54-1965-4334-aa50-a4fc48d35f78",
   "metadata": {},
   "outputs": [],
   "source": [
    "from sklearn.model_selection import GridSearchCV\n",
    "\n",
    "params = {'C': [1,3,3.5,4,4.5,5]}\n",
    "SA_lr_grid_cv = GridSearchCV(SA_lr, param_grid = params, cv = 3, scoring = 'accuracy',\n",
    "                            verbose = 1)"
   ]
  },
  {
   "cell_type": "code",
   "execution_count": 23,
   "id": "6d864074-d46c-4bf3-aafe-2f9b09e408a0",
   "metadata": {},
   "outputs": [
    {
     "name": "stdout",
     "output_type": "stream",
     "text": [
      "Fitting 3 folds for each of 6 candidates, totalling 18 fits\n"
     ]
    },
    {
     "data": {
      "text/plain": [
       "GridSearchCV(cv=3, estimator=LogisticRegression(random_state=0),\n",
       "             param_grid={'C': [1, 3, 3.5, 4, 4.5, 5]}, scoring='accuracy',\n",
       "             verbose=1)"
      ]
     },
     "execution_count": 23,
     "metadata": {},
     "output_type": "execute_result"
    }
   ],
   "source": [
    "SA_lr_grid_cv.fit(nsmc_train_tfidf, nsmc_train_df['label'])"
   ]
  },
  {
   "cell_type": "code",
   "execution_count": 24,
   "id": "fe22cf9e-4965-4170-820f-4abbbb3f03ba",
   "metadata": {},
   "outputs": [
    {
     "name": "stdout",
     "output_type": "stream",
     "text": [
      "{'C': 4.5} 0.8536\n"
     ]
    }
   ],
   "source": [
    "print(SA_lr_grid_cv.best_params_, round(SA_lr_grid_cv.best_score_, 4))"
   ]
  },
  {
   "cell_type": "code",
   "execution_count": 25,
   "id": "a13a08d0-ab07-447b-80b0-766cc957094a",
   "metadata": {},
   "outputs": [],
   "source": [
    "# 최적 매개변수의 best 모델 저장\n",
    "SA_lr_best = SA_lr_grid_cv.best_estimator_"
   ]
  },
  {
   "cell_type": "code",
   "execution_count": 26,
   "id": "d1ed88b9-1826-4f28-bbb5-f9cf71552f2c",
   "metadata": {},
   "outputs": [],
   "source": [
    "# 평가용 데이터의 피처 벡터화\n",
    "nsmc_test_tfidf = tfidf.transform(nsmc_test_df['document'])"
   ]
  },
  {
   "cell_type": "code",
   "execution_count": 27,
   "id": "cc4cc718-9cac-4868-9d53-4e90cd11cd6f",
   "metadata": {},
   "outputs": [],
   "source": [
    "test_predict = SA_lr_best.predict(nsmc_test_tfidf)"
   ]
  },
  {
   "cell_type": "code",
   "execution_count": 28,
   "id": "45c101e7-f861-4068-9d68-dc4a74b6cfae",
   "metadata": {},
   "outputs": [
    {
     "name": "stdout",
     "output_type": "stream",
     "text": [
      "감성 분석 정확도 : 0.857\n"
     ]
    }
   ],
   "source": [
    "from sklearn.metrics import accuracy_score\n",
    "\n",
    "print('감성 분석 정확도 :', round(accuracy_score(nsmc_test_df['label'], test_predict), 3))"
   ]
  },
  {
   "cell_type": "code",
   "execution_count": 29,
   "id": "f058e4b1-adc3-4b1a-9f82-0cb626b5231c",
   "metadata": {},
   "outputs": [
    {
     "ename": "KeyboardInterrupt",
     "evalue": "Interrupted by user",
     "output_type": "error",
     "traceback": [
      "\u001b[1;31m---------------------------------------------------------------------------\u001b[0m",
      "\u001b[1;31mKeyboardInterrupt\u001b[0m                         Traceback (most recent call last)",
      "\u001b[1;32m<ipython-input-29-4baeac974b91>\u001b[0m in \u001b[0;36m<module>\u001b[1;34m\u001b[0m\n\u001b[1;32m----> 1\u001b[1;33m \u001b[0mst\u001b[0m \u001b[1;33m=\u001b[0m \u001b[0minput\u001b[0m\u001b[1;33m(\u001b[0m\u001b[1;34m'감성 분석할 문장 입력 >>'\u001b[0m\u001b[1;33m)\u001b[0m\u001b[1;33m\u001b[0m\u001b[1;33m\u001b[0m\u001b[0m\n\u001b[0m",
      "\u001b[1;32mC:\\ProgramData\\Anaconda3\\lib\\site-packages\\ipykernel\\kernelbase.py\u001b[0m in \u001b[0;36mraw_input\u001b[1;34m(self, prompt)\u001b[0m\n\u001b[0;32m    858\u001b[0m                 \u001b[1;34m\"raw_input was called, but this frontend does not support input requests.\"\u001b[0m\u001b[1;33m\u001b[0m\u001b[1;33m\u001b[0m\u001b[0m\n\u001b[0;32m    859\u001b[0m             )\n\u001b[1;32m--> 860\u001b[1;33m         return self._input_request(str(prompt),\n\u001b[0m\u001b[0;32m    861\u001b[0m             \u001b[0mself\u001b[0m\u001b[1;33m.\u001b[0m\u001b[0m_parent_ident\u001b[0m\u001b[1;33m,\u001b[0m\u001b[1;33m\u001b[0m\u001b[1;33m\u001b[0m\u001b[0m\n\u001b[0;32m    862\u001b[0m             \u001b[0mself\u001b[0m\u001b[1;33m.\u001b[0m\u001b[0m_parent_header\u001b[0m\u001b[1;33m,\u001b[0m\u001b[1;33m\u001b[0m\u001b[1;33m\u001b[0m\u001b[0m\n",
      "\u001b[1;32mC:\\ProgramData\\Anaconda3\\lib\\site-packages\\ipykernel\\kernelbase.py\u001b[0m in \u001b[0;36m_input_request\u001b[1;34m(self, prompt, ident, parent, password)\u001b[0m\n\u001b[0;32m    902\u001b[0m             \u001b[1;32mexcept\u001b[0m \u001b[0mKeyboardInterrupt\u001b[0m\u001b[1;33m:\u001b[0m\u001b[1;33m\u001b[0m\u001b[1;33m\u001b[0m\u001b[0m\n\u001b[0;32m    903\u001b[0m                 \u001b[1;31m# re-raise KeyboardInterrupt, to truncate traceback\u001b[0m\u001b[1;33m\u001b[0m\u001b[1;33m\u001b[0m\u001b[1;33m\u001b[0m\u001b[0m\n\u001b[1;32m--> 904\u001b[1;33m                 \u001b[1;32mraise\u001b[0m \u001b[0mKeyboardInterrupt\u001b[0m\u001b[1;33m(\u001b[0m\u001b[1;34m\"Interrupted by user\"\u001b[0m\u001b[1;33m)\u001b[0m \u001b[1;32mfrom\u001b[0m \u001b[1;32mNone\u001b[0m\u001b[1;33m\u001b[0m\u001b[1;33m\u001b[0m\u001b[0m\n\u001b[0m\u001b[0;32m    905\u001b[0m             \u001b[1;32mexcept\u001b[0m \u001b[0mException\u001b[0m \u001b[1;32mas\u001b[0m \u001b[0me\u001b[0m\u001b[1;33m:\u001b[0m\u001b[1;33m\u001b[0m\u001b[1;33m\u001b[0m\u001b[0m\n\u001b[0;32m    906\u001b[0m                 \u001b[0mself\u001b[0m\u001b[1;33m.\u001b[0m\u001b[0mlog\u001b[0m\u001b[1;33m.\u001b[0m\u001b[0mwarning\u001b[0m\u001b[1;33m(\u001b[0m\u001b[1;34m\"Invalid Message:\"\u001b[0m\u001b[1;33m,\u001b[0m \u001b[0mexc_info\u001b[0m\u001b[1;33m=\u001b[0m\u001b[1;32mTrue\u001b[0m\u001b[1;33m)\u001b[0m\u001b[1;33m\u001b[0m\u001b[1;33m\u001b[0m\u001b[0m\n",
      "\u001b[1;31mKeyboardInterrupt\u001b[0m: Interrupted by user"
     ]
    }
   ],
   "source": [
    "st = input('감성 분석할 문장 입력 >>')"
   ]
  },
  {
   "cell_type": "code",
   "execution_count": null,
   "id": "fb02c1b1-7ae7-488d-9845-524c16189b94",
   "metadata": {},
   "outputs": [],
   "source": [
    "st = re.compile(r'[ㄱ-ㅣ가-힣]+').findall(st) ; print(st)\n",
    "st = [\" \".join(st)]; print(st)"
   ]
  },
  {
   "cell_type": "code",
   "execution_count": null,
   "id": "879dde8d-b12d-4a34-a2f9-0ebabe0c2b71",
   "metadata": {},
   "outputs": [],
   "source": [
    "st_tfidf = tfidf.transform(st)\n",
    "\n",
    "st_predict = SA_lr_best.predict(st_tfidf)"
   ]
  },
  {
   "cell_type": "code",
   "execution_count": null,
   "id": "4daa1488-e517-4d19-afdd-40291a126ba1",
   "metadata": {},
   "outputs": [],
   "source": [
    "if(st_predict == 0):\n",
    "    print(st, \"->> 부정 감성\")\n",
    "else :\n",
    "    print(st, \"->> 긍정 감성\")"
   ]
  },
  {
   "cell_type": "code",
   "execution_count": null,
   "id": "ceae9d8b-39b2-441a-856b-c45374158f24",
   "metadata": {},
   "outputs": [],
   "source": [
    "import json\n",
    "file_name = '코로나_naver_news'\n",
    "with open('data/' + file_name +'.json', encoding='utf8') as j_f:\n",
    "    data = json.load(j_f)"
   ]
  },
  {
   "cell_type": "code",
   "execution_count": null,
   "id": "cc9ff197-48cf-463d-a516-61ba43dd8a9c",
   "metadata": {
    "tags": []
   },
   "outputs": [],
   "source": [
    "print(data)"
   ]
  },
  {
   "cell_type": "code",
   "execution_count": null,
   "id": "19d4eaa1-47e7-42aa-9ded-dcfa80b4067f",
   "metadata": {},
   "outputs": [],
   "source": [
    "data_title = []\n",
    "data_description = []\n",
    "for item in data:\n",
    "    data_title.append(item['title'])\n",
    "    data_description.append(item['description'])"
   ]
  },
  {
   "cell_type": "code",
   "execution_count": null,
   "id": "0c0f8fe3-c558-4f85-bbc1-fc148c0ab86d",
   "metadata": {
    "tags": []
   },
   "outputs": [],
   "source": [
    "data_title"
   ]
  },
  {
   "cell_type": "code",
   "execution_count": null,
   "id": "7cf5d71a-24fa-47b4-827d-c82bf4931b6c",
   "metadata": {
    "tags": []
   },
   "outputs": [],
   "source": [
    "data_description"
   ]
  },
  {
   "cell_type": "code",
   "execution_count": null,
   "id": "1eb177d7-43b8-445f-8bde-c5a3d8634bbf",
   "metadata": {
    "tags": []
   },
   "outputs": [],
   "source": [
    "data_df = pd.DataFrame({'title':data_title, 'description':data_description})"
   ]
  },
  {
   "cell_type": "code",
   "execution_count": null,
   "id": "24b48c12-1816-4811-a91b-ae8edc09476e",
   "metadata": {},
   "outputs": [],
   "source": [
    "data_df['title'] = data_df['title'].apply(lambda x : re.sub(r'[^ ㄱ-ㅣ가-힣]+', \" \", x))\n",
    "data_df['description'] = data_df['description'].apply(lambda x : re.sub(r'[^ ㄱ-ㅣ가-힣]+', \" \", x))\n",
    "\n",
    "data_df.head()"
   ]
  },
  {
   "cell_type": "code",
   "execution_count": null,
   "id": "040e5c3b-875f-4a53-9091-3d9726c6627d",
   "metadata": {},
   "outputs": [],
   "source": [
    "data_title_tfidf = tfidf.transform(data_df['title'])\n",
    "\n",
    "data_title_predict = SA_lr_best.predict(data_title_tfidf)\n",
    "\n",
    "data_df['title_label'] = data_title_predict"
   ]
  },
  {
   "cell_type": "code",
   "execution_count": null,
   "id": "2b1888ef-1fd9-4296-8cd4-4ee1bb671b4f",
   "metadata": {},
   "outputs": [],
   "source": [
    "data_description_tfidf = tfidf.transform(data_df['description'])\n",
    "\n",
    "data_description_predict = SA_lr_best.predict(data_description_tfidf)\n",
    "\n",
    "data_df['description_label'] = data_description_predict"
   ]
  },
  {
   "cell_type": "code",
   "execution_count": null,
   "id": "860633d8-1db4-4f9d-aa98-db49c39b5af3",
   "metadata": {},
   "outputs": [],
   "source": [
    "data_df.to_csv('data/'+file_name+'.csv', encoding='euc-kr')"
   ]
  },
  {
   "cell_type": "code",
   "execution_count": null,
   "id": "66672d8e-5760-455c-83d0-1c4708be7847",
   "metadata": {},
   "outputs": [],
   "source": [
    "data_df.head()"
   ]
  },
  {
   "cell_type": "code",
   "execution_count": null,
   "id": "66d6624e-7580-48ae-b125-c3b6656594ab",
   "metadata": {},
   "outputs": [],
   "source": [
    "print(data_df['title_label'].value_counts())"
   ]
  },
  {
   "cell_type": "code",
   "execution_count": null,
   "id": "0d4053d2-b8d4-40ae-86ee-3c285055b4ab",
   "metadata": {},
   "outputs": [],
   "source": [
    "print(data_df['description_label'].value_counts())"
   ]
  },
  {
   "cell_type": "code",
   "execution_count": null,
   "id": "0d1b04de-182d-424e-9109-a6233c6d9c37",
   "metadata": {},
   "outputs": [],
   "source": [
    "columns_name = ['title', 'title_label', 'description', 'description_label']\n",
    "NEG_data_df = pd.DataFrame(columns=columns_name)\n",
    "POS_data_df = pd.DataFrame(columns=columns_name)\n",
    "\n",
    "for i, data in data_df.iterrows():\n",
    "    title = data['title']\n",
    "    description = data['description']\n",
    "    t_label = data['title_label']\n",
    "    d_label = data['description_label']\n",
    "    \n",
    "    if d_label == 0:\n",
    "        NEG_data_df = NEG_data_df.append(pd.DataFrame([[title, t_label, description, d_label]]))\n",
    "    else:\n",
    "        POS_data_df = POS_data_df.append(pd.DataFrame([[title, t_label, description, d_label]]))\n",
    "        \n",
    "NEG_data_df.to_csv('data/'+file_name+'_NES.csv', encoding='euc-kr')\n",
    "POS_data_df.to_csv('data/'+file_name+'_POS.csv', encoding='euc-kr')"
   ]
  },
  {
   "cell_type": "code",
   "execution_count": null,
   "id": "de35e7a6-f455-4e5f-9615-2fb4cf69f8de",
   "metadata": {},
   "outputs": [],
   "source": [
    "len(NEG_data_df), len(POS_data_df)"
   ]
  },
  {
   "cell_type": "code",
   "execution_count": null,
   "id": "cd0a12dc-f73f-4d80-a671-a79fdeef7c8c",
   "metadata": {},
   "outputs": [],
   "source": [
    "POS_description = POS_data_df['description']"
   ]
  },
  {
   "cell_type": "code",
   "execution_count": null,
   "id": "07e2dc4e-4aac-46f5-8f93-96b8c5729336",
   "metadata": {},
   "outputs": [],
   "source": [
    "POS_description_noun_tk = []\n",
    "\n",
    "for d in POS_description:\n",
    "    POS_description_noun_tk.append(okt.nouns(d)) #형태소가 명사인 것만 추출"
   ]
  },
  {
   "cell_type": "code",
   "execution_count": null,
   "id": "cf2ec739-76fe-40f0-93db-91502c8fe94b",
   "metadata": {},
   "outputs": [],
   "source": [
    "print(POS_description_noun_tk)"
   ]
  },
  {
   "cell_type": "code",
   "execution_count": null,
   "id": "b565b19d-295c-4b67-b3e1-e92059b89f78",
   "metadata": {},
   "outputs": [],
   "source": [
    "POS_description_noun_join = []\n",
    "\n",
    "for d in POS_description_noun_tk:\n",
    "    d2 = [w for w in d if len(w) > 1] # 길이가 1인 토큰은 제외\n",
    "    POS_description_noun_join.append(\" \".join(d2))"
   ]
  },
  {
   "cell_type": "code",
   "execution_count": null,
   "id": "6b596a27-6d4d-4f63-b93e-778e249f1d2f",
   "metadata": {},
   "outputs": [],
   "source": [
    "print(POS_description_noun_join)"
   ]
  },
  {
   "cell_type": "code",
   "execution_count": null,
   "id": "177f4691-3e35-422d-aeb9-a11477336bd2",
   "metadata": {},
   "outputs": [],
   "source": [
    "NEG_description = NEG_data_df['description']\n",
    "\n",
    "NEG_description_noun_tk = []\n",
    "NEG_description_noun_join = []\n",
    "\n",
    "for d in NEG_description:\n",
    "    NEG_description_noun_tk.append(okt.nouns(d))\n",
    "    \n",
    "for d NEG_description_noun_tk:\n",
    "    d2 = [w for w in d if len(w) > 1]\n",
    "    NEG_description_noun_join.append(\" \".join(d2))"
   ]
  },
  {
   "cell_type": "code",
   "execution_count": null,
   "id": "36981f40-ee0a-485f-b2b6-bde975c2bde9",
   "metadata": {},
   "outputs": [],
   "source": [
    "print(NEG_description_noun_join)"
   ]
  },
  {
   "cell_type": "code",
   "execution_count": null,
   "id": "d2eae3f2-462f-4987-8e78-7df2735ff157",
   "metadata": {},
   "outputs": [],
   "source": [
    "POS_tfidf = TfidVectorizer(tokenizer = okt_tokenizer, min_df=2)\n",
    "POS_dtm = POS_tfidf.fit_transform(POS_description_noun_join)"
   ]
  },
  {
   "cell_type": "code",
   "execution_count": null,
   "id": "cb87036c-ba7c-4627-8052-68735c4df2e2",
   "metadata": {},
   "outputs": [],
   "source": [
    "POS_vocab = dict()\n",
    "\n",
    "for idx, word in enumerate(POS_tfidf.get_feature_names()):\n",
    "    POS_vocab[word] = POS_dtm.getcol(idx).sum()\n",
    "    \n",
    "POS_words = sorted(POS_vocab.items(), key=lambda x: x[1], reverse=True)"
   ]
  },
  {
   "cell_type": "code",
   "execution_count": null,
   "id": "bd738195-29ae-42ee-a670-3696e51e2193",
   "metadata": {},
   "outputs": [],
   "source": [
    "POS_words"
   ]
  },
  {
   "cell_type": "code",
   "execution_count": null,
   "id": "6b3cf21f-a608-40d7-a997-b1062b727685",
   "metadata": {},
   "outputs": [],
   "source": [
    "NEG_tfidf = TfidVectorizer(tokenizer = okt_tokenizer, min_df=2)\n",
    "NEG_dtm = NEG_tfidf.fit_transform(NEG_description_noun_join)"
   ]
  },
  {
   "cell_type": "code",
   "execution_count": null,
   "id": "7e551119-a87f-4ed6-b92d-5bd793ce6a40",
   "metadata": {},
   "outputs": [],
   "source": [
    "NEG_vocab = dict()\n",
    "\n",
    "for idx, word in enumerate(NEG_tfidf.get_feature_names()):\n",
    "    NEG_vocab[word] = NEG_dtm.getcol(idx).sum()\n",
    "    \n",
    "NEG_words = sorted(NEG_vocab.items(), key=lambda x: x[1], reverse=True)"
   ]
  },
  {
   "cell_type": "code",
   "execution_count": null,
   "id": "1d21c61b-6ddd-488c-94f1-e6cd486b6f29",
   "metadata": {},
   "outputs": [],
   "source": [
    "NEG_words"
   ]
  },
  {
   "cell_type": "code",
   "execution_count": null,
   "id": "3e196f1a-316c-492c-a0d1-d5d4aefcebcc",
   "metadata": {},
   "outputs": [],
   "source": [
    "import matplotlib\n",
    "import matplotlib.pyplot as plt\n",
    "import matplotlib.font_manager as fm\n",
    "\n",
    "fm.get_fontconfig_fonts()\n",
    "font_location = 'c:/windows/fonts/malgun.ttf'\n",
    "font_name = fm.FontProperties(fname=font_location).get_name()\n",
    "matplotlib.rc('font', family=font_name)\n",
    "\n",
    "max = 15"
   ]
  },
  {
   "cell_type": "code",
   "execution_count": null,
   "id": "9418d988-6a26-49a9-9f5d-eb863b207c34",
   "metadata": {},
   "outputs": [],
   "source": [
    "plt.bar(range(max), [i[1] for i in POS_words[:max]], color=\"blue\")\n",
    "plt.title('긍정 뉴스의 단어 상위 %d개' %max, fontsize=15)\n",
    "plt.xlabel('단어', fontsize=12)\n",
    "plt.ylabel('TF-IDF의 합', fontsize=12)\n",
    "plt.xticks(range(max), [i[0] for i in POS_words[:max]], rotation=70)\n",
    "\n",
    "plt.show()"
   ]
  },
  {
   "cell_type": "code",
   "execution_count": null,
   "id": "df4633f0-acd3-49d1-b2d9-ae6ea978783c",
   "metadata": {},
   "outputs": [],
   "source": [
    "plt.bar(range(max), [i[1] for i in NEG_words[:max]], color=\"red\")\n",
    "plt.title(\"부정 뉴스의 단어 상위 %d개\" %max, fontsize=15)\n",
    "plt.xlabel(\"단어\", fontsize=12)\n",
    "plt.ylabel(\"TF-IDF의 합\", fontsize=12)\n",
    "plt.xticks(range(max), [i[0] for i in NEG_words[:max]], rotation=70)\n",
    "\n",
    "plt.show()"
   ]
  },
  {
   "cell_type": "code",
   "execution_count": null,
   "id": "885bf91a-82ae-4126-ade5-3c1543573d03",
   "metadata": {},
   "outputs": [],
   "source": [
    "description = data_df['description']"
   ]
  },
  {
   "cell_type": "code",
   "execution_count": null,
   "id": "544c19f0-c552-4f7a-9ff6-f7ecef103970",
   "metadata": {},
   "outputs": [],
   "source": [
    "description_noun_tk = []\n",
    "\n",
    "for d in description:\n",
    "    description_noun_tk.append(okt.nouns(d))"
   ]
  },
  {
   "cell_type": "code",
   "execution_count": null,
   "id": "fdb91f9a-1ca5-440a-9e38-dcff57d3724b",
   "metadata": {},
   "outputs": [],
   "source": [
    "description_noun_tk2 = []\n",
    "\n",
    "for d in description_noun_tk:\n",
    "    item = [i for i in d if len(i) > 1]\n",
    "    description_noun_tk2.append(item)"
   ]
  },
  {
   "cell_type": "code",
   "execution_count": null,
   "id": "0bd8d360-9e36-4e86-b827-90c779e2f7c5",
   "metadata": {},
   "outputs": [],
   "source": [
    "print(description_noun_tk2)"
   ]
  }
 ],
 "metadata": {
  "kernelspec": {
   "display_name": "Python 3",
   "language": "python",
   "name": "python3"
  },
  "language_info": {
   "codemirror_mode": {
    "name": "ipython",
    "version": 3
   },
   "file_extension": ".py",
   "mimetype": "text/x-python",
   "name": "python",
   "nbconvert_exporter": "python",
   "pygments_lexer": "ipython3",
   "version": "3.8.8"
  }
 },
 "nbformat": 4,
 "nbformat_minor": 5
}
