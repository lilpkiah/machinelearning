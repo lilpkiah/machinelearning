{
 "cells": [
  {
   "cell_type": "code",
   "execution_count": 74,
   "id": "e86e3d3c-a6be-4098-9d42-76453e73e4d2",
   "metadata": {},
   "outputs": [
    {
     "name": "stdout",
     "output_type": "stream",
     "text": [
      "x_data.shape =  (6, 1) , t_data.shape =  (6, 1)\n"
     ]
    }
   ],
   "source": [
    "import numpy as np\n",
    "\n",
    "#x_data = np.array([1,2,3,4,5]).reshape(5,1)\n",
    "#t_data = np.array([2,3,4,5,6]).reshape(5,1)\n",
    "x_data = np.array([9,14,21,27,32,37]).reshape(6,1)\n",
    "t_data = np.array([74,81,86,90,88,92]).reshape(6,1)\n",
    "\n",
    "print(\"x_data.shape = \", x_data.shape, \", t_data.shape = \", t_data.shape)"
   ]
  },
  {
   "cell_type": "code",
   "execution_count": 75,
   "id": "51337834-40f5-4f66-9fb1-26bb306bbbb5",
   "metadata": {},
   "outputs": [
    {
     "name": "stdout",
     "output_type": "stream",
     "text": [
      "W =  [[0.38377736]] , W.shape =  (1, 1) , b =  [0.16362726] , b.shape =  (1,)\n"
     ]
    }
   ],
   "source": [
    "W = np.random.rand(1,1)\n",
    "b = np.random.rand(1)\n",
    "print(\"W = \", W, \", W.shape = \", W.shape, \", b = \", b, \", b.shape = \", b.shape)"
   ]
  },
  {
   "cell_type": "code",
   "execution_count": 76,
   "id": "f8afc6f9-c244-429e-8e14-6006d3181169",
   "metadata": {},
   "outputs": [],
   "source": [
    "def loss_func(x, t):\n",
    "    y = np.dot(x, W) + b\n",
    "    \n",
    "    return ( np.sum( (t-y)**2 ) ) / (len(x))"
   ]
  },
  {
   "cell_type": "code",
   "execution_count": 77,
   "id": "494701ac-f9eb-4864-9011-6420cd233f70",
   "metadata": {},
   "outputs": [],
   "source": [
    "def numerical_derivative(f, x):\n",
    "    delta_x = 1e-3 # 0.001\n",
    "    grad = np.zeros_like(x)\n",
    "    \n",
    "    it = np.nditer(x, flags=['multi_index'], op_flags=['readwrite'])\n",
    "    \n",
    "    while not it.finished:\n",
    "        idx = it.multi_index\n",
    "        \n",
    "        tmp_val = x[idx]\n",
    "        x[idx] = float(tmp_val) + delta_x\n",
    "        fx1 = f(x)\n",
    "        \n",
    "        x[idx] = tmp_val - delta_x\n",
    "        fx2 = f(x)\n",
    "        grad[idx] = (fx1 - fx2) / (2*delta_x)\n",
    "        \n",
    "        x[idx] = tmp_val\n",
    "        it.iternext()\n",
    "        \n",
    "    return grad"
   ]
  },
  {
   "cell_type": "code",
   "execution_count": 78,
   "id": "efb39977-b648-4a48-b253-fa7e6d46702d",
   "metadata": {},
   "outputs": [],
   "source": [
    "# 손실함수 값 계산 함수\n",
    "# 입력변수 x, t : numpt type\n",
    "\n",
    "def error_val(x, t):\n",
    "    y = np.dot(x, W) + b\n",
    "    return ( np.sum( (t-y)**2 ) ) / (len(x))"
   ]
  },
  {
   "cell_type": "code",
   "execution_count": 79,
   "id": "3872cd40-1405-405a-b260-355aa5341bf6",
   "metadata": {},
   "outputs": [],
   "source": [
    "# 학습을 마친 후, 임의의 데이터에 대해 미래 값 예측 함수\n",
    "# 입력변수 x : numpy type\n",
    "def predict(x):\n",
    "    y = np.dot(x,W) + b\n",
    "    return y"
   ]
  },
  {
   "cell_type": "code",
   "execution_count": 80,
   "id": "dd47e8e3-f468-4b37-aadb-4526bcfa4cf8",
   "metadata": {},
   "outputs": [
    {
     "name": "stdout",
     "output_type": "stream",
     "text": [
      "Initial error value =  5791.656746091977 Initial W =  [[0.38377736]] \n",
      " , b =  [0.16362726]\n",
      "step =  0 error value =  1160.8473185348478 W =  [[3.97023973]] , b =  [0.14835548]\n",
      "step =  1000 error value =  424.2361907765879 W =  [[2.51344037]] , b =  [18.61515316]\n",
      "step =  2000 error value =  235.48556690065968 W =  [[2.01415515]] , b =  [32.30663748]\n",
      "step =  3000 error value =  131.6412515005683 W =  [[1.6438192]] , b =  [42.46205303]\n",
      "step =  4000 error value =  74.50956303482222 W =  [[1.36912908]] , b =  [49.99465232]\n",
      "step =  5000 error value =  43.07760824392741 W =  [[1.16538255]] , b =  [55.58182419]\n",
      "step =  6000 error value =  25.784792146445913 W =  [[1.01425718]] , b =  [59.72600979]\n",
      "step =  7000 error value =  16.270859889584727 W =  [[0.90216262]] , b =  [62.79988592]\n",
      "step =  8000 error value =  11.036610795732498 W =  [[0.81901847]] , b =  [65.079879]\n",
      "step =  9000 error value =  8.156901035692918 W =  [[0.75734777]] , b =  [66.77102341]\n",
      "step =  10000 error value =  6.572580505023932 W =  [[0.71160463]] , b =  [68.02539977]\n",
      "step =  11000 error value =  5.700940043637282 W =  [[0.67767546]] , b =  [68.95581118]\n",
      "step =  12000 error value =  5.221392452592015 W =  [[0.6525091]] , b =  [69.64592733]\n",
      "step =  13000 error value =  4.957561317777988 W =  [[0.6338424]] , b =  [70.15780874]\n",
      "step =  14000 error value =  4.812410202441362 W =  [[0.61999671]] , b =  [70.5374877]\n",
      "step =  15000 error value =  4.732552886517182 W =  [[0.60972691]] , b =  [70.81910782]\n",
      "step =  16000 error value =  4.688618047354399 W =  [[0.60210947]] , b =  [71.02799456]\n",
      "step =  17000 error value =  4.664446560122167 W =  [[0.59645937]] , b =  [71.18293258]\n",
      "step =  18000 error value =  4.651148211791997 W =  [[0.59226851]] , b =  [71.29785512]\n",
      "step =  19000 error value =  4.6438319028445365 W =  [[0.58916001]] , b =  [71.38309687]\n",
      "step =  20000 error value =  4.6398067130024625 W =  [[0.58685434]] , b =  [71.44632342]\n",
      "step =  21000 error value =  4.637592187429388 W =  [[0.58514415]] , b =  [71.4932206]\n",
      "step =  22000 error value =  4.6363738291143335 W =  [[0.58387564]] , b =  [71.52800574]\n",
      "step =  23000 error value =  4.635703528892036 W =  [[0.58293475]] , b =  [71.55380701]\n",
      "step =  24000 error value =  4.63533475200397 W =  [[0.58223686]] , b =  [71.57294464]\n",
      "step =  25000 error value =  4.63513186322568 W =  [[0.58171921]] , b =  [71.58713964]\n",
      "step =  26000 error value =  4.635020240567964 W =  [[0.58133526]] , b =  [71.59766853]\n",
      "step =  27000 error value =  4.634958829494258 W =  [[0.58105047]] , b =  [71.60547814]\n",
      "step =  28000 error value =  4.634925043164056 W =  [[0.58083923]] , b =  [71.61127079]\n",
      "step =  29000 error value =  4.634906455048909 W =  [[0.58068254]] , b =  [71.61556738]\n",
      "step =  30000 error value =  4.6348962284861805 W =  [[0.58056633]] , b =  [71.6187543]\n",
      "step =  31000 error value =  4.634890602171512 W =  [[0.58048013]] , b =  [71.62111814]\n",
      "step =  32000 error value =  4.6348875067603155 W =  [[0.58041619]] , b =  [71.62287148]\n",
      "step =  33000 error value =  4.634885803768033 W =  [[0.58036876]] , b =  [71.62417198]\n",
      "step =  34000 error value =  4.634884866838325 W =  [[0.58033358]] , b =  [71.62513661]\n",
      "step =  35000 error value =  4.6348843513707525 W =  [[0.58030749]] , b =  [71.62585211]\n",
      "step =  36000 error value =  4.634884067777635 W =  [[0.58028814]] , b =  [71.62638281]\n",
      "step =  37000 error value =  4.6348839117541525 W =  [[0.58027378]] , b =  [71.62677646]\n",
      "step =  38000 error value =  4.634883825915193 W =  [[0.58026314]] , b =  [71.62706843]\n",
      "step =  39000 error value =  4.634883778689469 W =  [[0.58025524]] , b =  [71.627285]\n",
      "step =  40000 error value =  4.63488375270743 W =  [[0.58024938]] , b =  [71.62744564]\n",
      "step =  41000 error value =  4.6348837384129835 W =  [[0.58024504]] , b =  [71.62756479]\n",
      "step =  42000 error value =  4.634883730548671 W =  [[0.58024181]] , b =  [71.62765316]\n",
      "step =  43000 error value =  4.634883726221966 W =  [[0.58023942]] , b =  [71.62771872]\n",
      "step =  44000 error value =  4.6348837238415745 W =  [[0.58023765]] , b =  [71.62776734]\n",
      "step =  45000 error value =  4.634883722531948 W =  [[0.58023634]] , b =  [71.6278034]\n",
      "step =  46000 error value =  4.634883721811429 W =  [[0.58023536]] , b =  [71.62783015]\n",
      "step =  47000 error value =  4.634883721415063 W =  [[0.58023464]] , b =  [71.62784999]\n",
      "step =  48000 error value =  4.634883721196959 W =  [[0.5802341]] , b =  [71.62786471]\n",
      "step =  49000 error value =  4.634883721076977 W =  [[0.5802337]] , b =  [71.62787563]\n",
      "step =  50000 error value =  4.634883721010967 W =  [[0.58023341]] , b =  [71.62788372]\n",
      "step =  51000 error value =  4.634883720974637 W =  [[0.58023319]] , b =  [71.62788973]\n",
      "step =  52000 error value =  4.634883720954683 W =  [[0.58023302]] , b =  [71.62789418]\n",
      "step =  53000 error value =  4.634883720943674 W =  [[0.5802329]] , b =  [71.62789749]\n",
      "step =  54000 error value =  4.634883720937634 W =  [[0.58023281]] , b =  [71.62789994]\n",
      "step =  55000 error value =  4.634883720934302 W =  [[0.58023275]] , b =  [71.62790176]\n",
      "step =  56000 error value =  4.634883720932467 W =  [[0.5802327]] , b =  [71.6279031]\n",
      "step =  57000 error value =  4.634883720931451 W =  [[0.58023266]] , b =  [71.6279041]\n",
      "step =  58000 error value =  4.634883720930915 W =  [[0.58023264]] , b =  [71.62790485]\n",
      "step =  59000 error value =  4.634883720930614 W =  [[0.58023262]] , b =  [71.6279054]\n",
      "step =  60000 error value =  4.634883720930433 W =  [[0.5802326]] , b =  [71.6279058]\n",
      "step =  61000 error value =  4.634883720930345 W =  [[0.58023259]] , b =  [71.62790611]\n",
      "step =  62000 error value =  4.634883720930297 W =  [[0.58023258]] , b =  [71.62790633]\n",
      "step =  63000 error value =  4.634883720930264 W =  [[0.58023258]] , b =  [71.6279065]\n",
      "step =  64000 error value =  4.634883720930256 W =  [[0.58023257]] , b =  [71.62790662]\n",
      "step =  65000 error value =  4.634883720930243 W =  [[0.58023257]] , b =  [71.62790671]\n",
      "step =  66000 error value =  4.634883720930243 W =  [[0.58023257]] , b =  [71.62790678]\n",
      "step =  67000 error value =  4.6348837209302305 W =  [[0.58023256]] , b =  [71.62790683]\n",
      "step =  68000 error value =  4.634883720930238 W =  [[0.58023256]] , b =  [71.62790687]\n",
      "step =  69000 error value =  4.634883720930236 W =  [[0.58023256]] , b =  [71.6279069]\n",
      "step =  70000 error value =  4.63488372093022 W =  [[0.58023256]] , b =  [71.62790692]\n",
      "step =  71000 error value =  4.6348837209302305 W =  [[0.58023256]] , b =  [71.62790693]\n",
      "step =  72000 error value =  4.634883720930251 W =  [[0.58023256]] , b =  [71.62790694]\n",
      "step =  73000 error value =  4.634883720930235 W =  [[0.58023256]] , b =  [71.62790695]\n",
      "step =  74000 error value =  4.63488372093023 W =  [[0.58023256]] , b =  [71.62790696]\n",
      "step =  75000 error value =  4.634883720930241 W =  [[0.58023256]] , b =  [71.62790696]\n",
      "step =  76000 error value =  4.634883720930232 W =  [[0.58023256]] , b =  [71.62790697]\n",
      "step =  77000 error value =  4.6348837209302305 W =  [[0.58023256]] , b =  [71.62790697]\n",
      "step =  78000 error value =  4.634883720930243 W =  [[0.58023256]] , b =  [71.62790697]\n",
      "step =  79000 error value =  4.634883720930235 W =  [[0.58023256]] , b =  [71.62790697]\n",
      "step =  80000 error value =  4.6348837209302305 W =  [[0.58023256]] , b =  [71.62790697]\n"
     ]
    }
   ],
   "source": [
    "learning_rate = 1e-3 # 발산하는 경우, 1e-3 ~ 1e-6 등으로 바꾸어서 실행\n",
    "\n",
    "f = lambda x : loss_func(x_data, t_data)\n",
    "\n",
    "print(\"Initial error value = \", error_val(x_data, t_data), \"Initial W = \", W, \"\\n\", \", b = \", b)\n",
    "\n",
    "for step in range(80001):\n",
    "    \n",
    "    W -= learning_rate * numerical_derivative(f, W)\n",
    "    \n",
    "    b -= learning_rate * numerical_derivative(f, b)\n",
    "    \n",
    "    if(step % 1000 == 0):\n",
    "        print(\"step = \", step, \"error value = \", error_val(x_data, t_data), \"W = \", W, \", b = \", b)"
   ]
  },
  {
   "cell_type": "code",
   "execution_count": 81,
   "id": "097ed918-3a08-4dc6-a4c1-7cfbde4f086d",
   "metadata": {},
   "outputs": [
    {
     "data": {
      "text/plain": [
       "array([[77.43023256]])"
      ]
     },
     "execution_count": 81,
     "metadata": {},
     "output_type": "execute_result"
    }
   ],
   "source": [
    "predict(10)"
   ]
  },
  {
   "cell_type": "code",
   "execution_count": null,
   "id": "3d126b7e-8cd4-46b2-9b92-9f2b12287408",
   "metadata": {},
   "outputs": [],
   "source": []
  }
 ],
 "metadata": {
  "kernelspec": {
   "display_name": "Python 3",
   "language": "python",
   "name": "python3"
  },
  "language_info": {
   "codemirror_mode": {
    "name": "ipython",
    "version": 3
   },
   "file_extension": ".py",
   "mimetype": "text/x-python",
   "name": "python",
   "nbconvert_exporter": "python",
   "pygments_lexer": "ipython3",
   "version": "3.8.8"
  }
 },
 "nbformat": 4,
 "nbformat_minor": 5
}
