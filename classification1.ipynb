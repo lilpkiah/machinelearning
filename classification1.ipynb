{
 "cells": [
  {
   "cell_type": "code",
   "execution_count": 1,
   "id": "2f79742c-ba0a-46da-b92e-4de246c94202",
   "metadata": {},
   "outputs": [
    {
     "name": "stdout",
     "output_type": "stream",
     "text": [
      "x_data.shape =  (10, 1) , t_data.shape =  (10, 1)\n"
     ]
    }
   ],
   "source": [
    "import numpy as np\n",
    "\n",
    "x_data = np.array([2, 4, 6, 8, 10, 12, 14, 16, 18, 20]).reshape(10,1)\n",
    "t_data = np.array([0, 0, 0, 0, 0, 0, 1, 1, 1, 1]).reshape(10,1)\n",
    "\n",
    "print(\"x_data.shape = \", x_data.shape, \", t_data.shape = \", t_data.shape)"
   ]
  },
  {
   "cell_type": "code",
   "execution_count": 2,
   "id": "821faf1b-5cce-4243-aa81-fbee395269ea",
   "metadata": {},
   "outputs": [
    {
     "name": "stdout",
     "output_type": "stream",
     "text": [
      "W =  [[0.36012997]] , W.shape =  (1, 1) , b =  [0.53277542] , b.shape =  (1,)\n"
     ]
    }
   ],
   "source": [
    "W = np.random.rand(1, 1)\n",
    "b = np.random.rand(1)\n",
    "print(\"W = \", W, \", W.shape = \", W.shape, \", b = \", b, \", b.shape = \", b.shape)"
   ]
  },
  {
   "cell_type": "code",
   "execution_count": 3,
   "id": "4fb04c41-5544-4580-8cc3-d75bc64fde34",
   "metadata": {},
   "outputs": [],
   "source": [
    "# 최종출력은 y = sigmoid(Wx + b) 이며, 손실함수는 cross-entropy로 나타냄\n",
    "\n",
    "def sigmoid(x):\n",
    "    return 1 / (1+np.exp(-x))"
   ]
  },
  {
   "cell_type": "code",
   "execution_count": 5,
   "id": "be71046b-5def-4597-8cc4-9e20d139ace3",
   "metadata": {},
   "outputs": [],
   "source": [
    "def loss_func(x, t):\n",
    "    delta = 1e-7 # log 무한대 방지\n",
    "    \n",
    "    z = np.dot(x,W) + b\n",
    "    y = sigmoid(z)\n",
    "    \n",
    "    return -np.sum( t*np.log(y+delta) + (1-t)*np.log((1-y)+delta))"
   ]
  },
  {
   "cell_type": "code",
   "execution_count": 6,
   "id": "e9c52233-e70d-4a4b-9bbf-cefcd857a5d4",
   "metadata": {},
   "outputs": [],
   "source": [
    "def numerical_derivative(f, x):\n",
    "    delta_x = 1e-4\n",
    "    grad = np.zeros_like(x)\n",
    "    \n",
    "    it = np.nditer(x, flags=['multi_index'], op_flags=['readwrite'])\n",
    "    while not it.finished:\n",
    "        idx = it.multi_index\n",
    "        \n",
    "        tmp_val = x[idx]\n",
    "        x[idx] = float(tmp_val) + delta_x\n",
    "        fx1 = f(x)\n",
    "        \n",
    "        x[idx] = tmp_val - delta_x\n",
    "        fx2 = f(x)\n",
    "        grad[idx] = (fx1 - fx2) / (2*delta_x)\n",
    "        \n",
    "        x[idx] = tmp_val\n",
    "        it.iternext()\n",
    "        \n",
    "    return grad"
   ]
  },
  {
   "cell_type": "code",
   "execution_count": 7,
   "id": "25fdaf47-f498-4a64-89f8-eded94df1880",
   "metadata": {},
   "outputs": [],
   "source": [
    "def error_val(x, t):\n",
    "    delta = 1e-7\n",
    "    \n",
    "    z = np.dot(x, W) + b\n",
    "    y = sigmoid(z)\n",
    "    \n",
    "    return -np.sum( t*np.log(y+delta) + (1-t)*np.log((1-y)+delta))"
   ]
  },
  {
   "cell_type": "code",
   "execution_count": 8,
   "id": "1e7189fc-dd4b-463d-9b83-ee65cf817d88",
   "metadata": {},
   "outputs": [],
   "source": [
    "def predict(x):\n",
    "    \n",
    "    z = np.dot(x,W) + b\n",
    "    y = sigmoid(z)\n",
    "    \n",
    "    if y >= 0.5:\n",
    "        result = 1\n",
    "    else: \n",
    "        result = 0\n",
    "        \n",
    "    return y, result"
   ]
  },
  {
   "cell_type": "code",
   "execution_count": 10,
   "id": "dd7bed5e-6849-46ee-bec1-90dada3785d1",
   "metadata": {},
   "outputs": [
    {
     "name": "stdout",
     "output_type": "stream",
     "text": [
      "Initial error value =  18.83194404232449 Initial W =  [[0.36012997]] \n",
      " , b =  [0.53277542]\n",
      "step =  0 error value =  8.05461980185721 W =  [[-0.04061467]] , b =  [0.52065513]\n",
      "step =  400 error value =  2.757390958028708 W =  [[0.28359181]] , b =  [-4.15554844]\n",
      "step =  800 error value =  1.7754203974486806 W =  [[0.45546722]] , b =  [-5.66912607]\n",
      "step =  1200 error value =  1.5131443627330061 W =  [[0.53230546]] , b =  [-6.69220308]\n",
      "step =  1600 error value =  1.3492080814032952 W =  [[0.59327941]] , b =  [-7.50184433]\n",
      "step =  2000 error value =  1.2335883812269497 W =  [[0.64461123]] , b =  [-8.18197014]\n",
      "step =  2400 error value =  1.1459528805526868 W =  [[0.68938275]] , b =  [-8.77412617]\n",
      "step =  2800 error value =  1.076273569703595 W =  [[0.72936223]] , b =  [-9.30212894]\n",
      "step =  3200 error value =  1.0189530342875015 W =  [[0.7656658]] , b =  [-9.78099533]\n",
      "step =  3600 error value =  0.9705847151224852 W =  [[0.79904689]] , b =  [-10.22085082]\n",
      "step =  4000 error value =  0.9289583572377592 W =  [[0.83004011]] , b =  [-10.62887228]\n",
      "step =  4400 error value =  0.892567337871122 W =  [[0.85903975]] , b =  [-11.01034703]\n",
      "step =  4800 error value =  0.860343553276766 W =  [[0.8863457]] , b =  [-11.3692922]\n",
      "step =  5200 error value =  0.8315051786194027 W =  [[0.91219183]] , b =  [-11.70883767]\n",
      "step =  5600 error value =  0.8054645346772801 W =  [[0.9367644]] , b =  [-12.03147359]\n",
      "step =  6000 error value =  0.7817698625522069 W =  [[0.96021436]] , b =  [-12.33921651]\n",
      "step =  6400 error value =  0.7600671641135183 W =  [[0.98266592]] , b =  [-12.63372437]\n",
      "step =  6800 error value =  0.7400744057322923 W =  [[1.00422264]] , b =  [-12.91637833]\n",
      "step =  7200 error value =  0.7215636071257666 W =  [[1.02497186]] , b =  [-13.18834218]\n",
      "step =  7600 error value =  0.7043481117822666 W =  [[1.04498795]] , b =  [-13.45060664]\n",
      "step =  8000 error value =  0.6882733525521715 W =  [[1.06433485]] , b =  [-13.70402263]\n",
      "step =  8400 error value =  0.6732100298435895 W =  [[1.08306797]] , b =  [-13.94932695]\n",
      "step =  8800 error value =  0.6590489896434731 W =  [[1.10123563]] , b =  [-14.18716226]\n",
      "step =  9200 error value =  0.6456973213317758 W =  [[1.11888031]] , b =  [-14.41809272]\n",
      "step =  9600 error value =  0.6330753453877126 W =  [[1.13603952]] , b =  [-14.64261662]\n",
      "step =  10000 error value =  0.6211142600819326 W =  [[1.15274661]] , b =  [-14.86117644]\n"
     ]
    }
   ],
   "source": [
    "learning_rate = 1e-2\n",
    "\n",
    "f = lambda x : loss_func(x_data,t_data)\n",
    "    \n",
    "print(\"Initial error value = \", error_val(x_data, t_data), \"Initial W = \", W, \"\\n\", \", b = \", b)\n",
    "\n",
    "for step in range(10001):\n",
    "    W -= learning_rate * numerical_derivative(f, W)\n",
    "    b -= learning_rate * numerical_derivative(f, b)\n",
    "    \n",
    "    if(step % 400 == 0):\n",
    "        print(\"step = \", step, \"error value = \", error_val(x_data, t_data), \"W = \", W, \", b = \", b)"
   ]
  },
  {
   "cell_type": "code",
   "execution_count": 11,
   "id": "28438208-2ab7-42bb-9583-78bd1f182191",
   "metadata": {},
   "outputs": [
    {
     "name": "stdout",
     "output_type": "stream",
     "text": [
      "[[1.11625318e-05]] 0\n"
     ]
    }
   ],
   "source": [
    "(real_val, logical_val) = predict(3)\n",
    "\n",
    "print(real_val, logical_val)"
   ]
  },
  {
   "cell_type": "code",
   "execution_count": 12,
   "id": "70451e2a-847f-47a3-bc81-9c8029404838",
   "metadata": {},
   "outputs": [
    {
     "name": "stdout",
     "output_type": "stream",
     "text": [
      "[[0.99129846]] 1\n"
     ]
    }
   ],
   "source": [
    "(real_val, logical_val) = predict(17)\n",
    "\n",
    "print(real_val, logical_val)"
   ]
  }
 ],
 "metadata": {
  "kernelspec": {
   "display_name": "Python 3",
   "language": "python",
   "name": "python3"
  },
  "language_info": {
   "codemirror_mode": {
    "name": "ipython",
    "version": 3
   },
   "file_extension": ".py",
   "mimetype": "text/x-python",
   "name": "python",
   "nbconvert_exporter": "python",
   "pygments_lexer": "ipython3",
   "version": "3.8.8"
  }
 },
 "nbformat": 4,
 "nbformat_minor": 5
}
