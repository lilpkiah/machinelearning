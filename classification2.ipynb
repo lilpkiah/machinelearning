{
 "cells": [
  {
   "cell_type": "code",
   "execution_count": 1,
   "id": "cad00890-45c3-4a6f-9589-ba8db9fff856",
   "metadata": {},
   "outputs": [
    {
     "name": "stdout",
     "output_type": "stream",
     "text": [
      "x_data.ndim =  2 , x_data.shape =  (9, 2)\n",
      "t_data.ndim =  2 , t_data.shape =  (9, 1)\n"
     ]
    }
   ],
   "source": [
    "import numpy as np\n",
    "\n",
    "x_data = np.array([ [2, 4], [4, 11], [6, 6], [8, 5], [10, 7], [12, 16], [14, 8], [16, 3], [18, 7] ])\n",
    "t_data = np.array([0, 0, 0, 0, 1, 1, 1, 1, 1]).reshape(9, 1)\n",
    "\n",
    "print(\"x_data.ndim = \", x_data.ndim, \", x_data.shape = \", x_data.shape)\n",
    "print(\"t_data.ndim = \", t_data.ndim, \", t_data.shape = \", t_data.shape)"
   ]
  },
  {
   "cell_type": "code",
   "execution_count": 7,
   "id": "2a21ec8e-6c6b-4b5f-97eb-de82699ee964",
   "metadata": {},
   "outputs": [
    {
     "name": "stdout",
     "output_type": "stream",
     "text": [
      "W =  [[0.22377714]\n",
      " [0.7419718 ]] , W.shape =  (2, 1) , b =  [0.48549435] , b.shape =  (1,)\n"
     ]
    }
   ],
   "source": [
    "W = np.random.rand(2, 1)\n",
    "b = np.random.rand(1)\n",
    "print(\"W = \", W, \", W.shape = \", W.shape, \", b = \", b, \", b.shape = \", b.shape)"
   ]
  },
  {
   "cell_type": "code",
   "execution_count": 3,
   "id": "8b9f0b09-5452-4452-97b5-0bddee1a19ec",
   "metadata": {},
   "outputs": [],
   "source": [
    "def sigmoid(x):\n",
    "    return 1 / (1+np.exp(-x))\n",
    "\n",
    "def loss_func(x, t):\n",
    "    delta = 1e-7 # log 무한대 방지\n",
    "    \n",
    "    z = np.dot(x,W) + b\n",
    "    y = sigmoid(z)\n",
    "    \n",
    "    return -np.sum( t*np.log(y+delta) + (1-t)*np.log((1-y)+delta))"
   ]
  },
  {
   "cell_type": "code",
   "execution_count": 4,
   "id": "1915488e-f449-450a-8494-30345e037487",
   "metadata": {},
   "outputs": [],
   "source": [
    "def numerical_derivative(f, x):\n",
    "    delta_x = 1e-4\n",
    "    grad = np.zeros_like(x)\n",
    "    \n",
    "    it = np.nditer(x, flags=['multi_index'], op_flags=['readwrite'])\n",
    "    while not it.finished:\n",
    "        idx = it.multi_index\n",
    "        \n",
    "        tmp_val = x[idx]\n",
    "        x[idx] = float(tmp_val) + delta_x\n",
    "        fx1 = f(x)\n",
    "        \n",
    "        x[idx] = tmp_val - delta_x\n",
    "        fx2 = f(x)\n",
    "        grad[idx] = (fx1 - fx2) / (2*delta_x)\n",
    "        \n",
    "        x[idx] = tmp_val\n",
    "        it.iternext()\n",
    "        \n",
    "    return grad"
   ]
  },
  {
   "cell_type": "code",
   "execution_count": 11,
   "id": "d851a5cf-32ad-4ec0-8aaf-7f5b77769db4",
   "metadata": {},
   "outputs": [],
   "source": [
    "def error_val(x, t):\n",
    "    delta = 1e-7\n",
    "    \n",
    "    z = np.dot(x, W) + b\n",
    "    y = sigmoid(z)\n",
    "    \n",
    "    return -np.sum( t*np.log(y+delta) + (1-t)*np.log((1-y)+delta))\n",
    "\n",
    "def predict(x):\n",
    "    \n",
    "    z = np.dot(x,W) + b\n",
    "    y = sigmoid(z)\n",
    "    \n",
    "    if y >= 0.5:\n",
    "        result = 1\n",
    "    else: \n",
    "        result = 0\n",
    "        \n",
    "    return y, result"
   ]
  },
  {
   "cell_type": "code",
   "execution_count": 8,
   "id": "73d6f16f-ca72-4016-b7c0-ba3ad0bbea86",
   "metadata": {},
   "outputs": [
    {
     "name": "stdout",
     "output_type": "stream",
     "text": [
      "Initial error value =  25.734117632230497 Initial W =  [[0.22377714]\n",
      " [0.7419718 ]] \n",
      " , b =  [0.48549435]\n",
      "step =  0 error value =  15.154520868296537 W =  [[0.02490449]\n",
      " [0.4832596 ]] , b =  [0.44828501]\n",
      "step =  400 error value =  2.253329711684124 W =  [[ 0.42283451]\n",
      " [-0.08534979]] , b =  [-2.66123232]\n",
      "step =  800 error value =  1.5834510284114316 W =  [[ 0.53805578]\n",
      " [-0.02560684]] , b =  [-4.28610796]\n",
      "step =  1200 error value =  1.2757592485052587 W =  [[0.62479906]\n",
      " [0.00953314]] , b =  [-5.39165066]\n",
      "step =  1600 error value =  1.0954923089730646 W =  [[0.69488596]\n",
      " [0.034624  ]] , b =  [-6.23874423]\n",
      "step =  2000 error value =  0.9747677340604699 W =  [[0.75399542]\n",
      " [0.05463326]] , b =  [-6.9321745]\n",
      "step =  2400 error value =  0.8868201544195978 W =  [[0.80526664]\n",
      " [0.07177183]] , b =  [-7.5240713]\n",
      "step =  2800 error value =  0.8189645425571671 W =  [[0.85061983]\n",
      " [0.08718511]] , b =  [-8.04397375]\n",
      "step =  3200 error value =  0.764400932157089 W =  [[0.89131925]\n",
      " [0.10152618]] , b =  [-8.51016606]\n",
      "step =  3600 error value =  0.7191454874983757 W =  [[0.9282453 ]\n",
      " [0.11519137]] , b =  [-8.93471881]\n",
      "step =  4000 error value =  0.6807018565256371 W =  [[0.96203909]\n",
      " [0.12843041]] , b =  [-9.32600267]\n",
      "step =  4400 error value =  0.6474211278081093 W =  [[0.99318502]\n",
      " [0.14140311]] , b =  [-9.69005255]\n",
      "step =  4800 error value =  0.6181670200932428 W =  [[1.02206086]\n",
      " [0.15421092]] , b =  [-10.03135825]\n",
      "step =  5200 error value =  0.5921288315926955 W =  [[1.04896924]\n",
      " [0.16691564]] , b =  [-10.35334756]\n",
      "step =  5600 error value =  0.5687111540735503 W =  [[1.07415822]\n",
      " [0.17955139]] , b =  [-10.65869463]\n",
      "step =  6000 error value =  0.5474658526001199 W =  [[1.0978351 ]\n",
      " [0.19213276]] , b =  [-10.9495242]\n",
      "step =  6400 error value =  0.5280484774542713 W =  [[1.12017569]\n",
      " [0.20466065]] , b =  [-11.22755116]\n",
      "step =  6800 error value =  0.5101893984953038 W =  [[1.14133085]\n",
      " [0.2171267 ]] , b =  [-11.49417873]\n",
      "step =  7200 error value =  0.4936741360991387 W =  [[1.16143106]\n",
      " [0.22951672]] , b =  [-11.750569]\n",
      "step =  7600 error value =  0.4783296211950932 W =  [[1.18058973]\n",
      " [0.24181334]] , b =  [-11.99769491]\n",
      "step =  8000 error value =  0.4640143863363862 W =  [[1.19890572]\n",
      " [0.25399804]] , b =  [-12.23637912]\n",
      "step =  8400 error value =  0.45061142888870265 W =  [[1.21646529]\n",
      " [0.26605261]] , b =  [-12.46732358]\n",
      "step =  8800 error value =  0.43802293141507226 W =  [[1.23334372]\n",
      " [0.27796024]] , b =  [-12.69113243]\n",
      "step =  9200 error value =  0.4261662985879534 W =  [[1.24960666]\n",
      " [0.28970609]] , b =  [-12.90832975]\n",
      "step =  9600 error value =  0.4149711437507941 W =  [[1.26531137]\n",
      " [0.30127767]] , b =  [-13.11937367]\n",
      "step =  10000 error value =  0.40437697103526277 W =  [[1.28050771]\n",
      " [0.31266496]] , b =  [-13.32466752]\n"
     ]
    }
   ],
   "source": [
    "learning_rate = 1e-2\n",
    "\n",
    "f = lambda x : loss_func(x_data,t_data)\n",
    "    \n",
    "print(\"Initial error value = \", error_val(x_data, t_data), \"Initial W = \", W, \"\\n\", \", b = \", b)\n",
    "\n",
    "for step in range(10001):\n",
    "    W -= learning_rate * numerical_derivative(f, W)\n",
    "    b -= learning_rate * numerical_derivative(f, b)\n",
    "    \n",
    "    if(step % 400 == 0):\n",
    "        print(\"step = \", step, \"error value = \", error_val(x_data, t_data), \"W = \", W, \", b = \", b)"
   ]
  },
  {
   "cell_type": "code",
   "execution_count": 12,
   "id": "875a56be-2f41-4c0f-b23f-e745d6d73639",
   "metadata": {},
   "outputs": [
    {
     "data": {
      "text/plain": [
       "(array([0.01524952]), 0)"
      ]
     },
     "execution_count": 12,
     "metadata": {},
     "output_type": "execute_result"
    }
   ],
   "source": [
    "test_data = np.array([3, 17])\n",
    "predict(test_data)"
   ]
  },
  {
   "cell_type": "code",
   "execution_count": 13,
   "id": "bb3f9098-a84e-4c20-a067-d1f25105d572",
   "metadata": {},
   "outputs": [
    {
     "data": {
      "text/plain": [
       "(array([0.6750399]), 1)"
      ]
     },
     "execution_count": 13,
     "metadata": {},
     "output_type": "execute_result"
    }
   ],
   "source": [
    "test_data = np.array([10, 4]) # (예습, 복습) = (10, 4) => Fail (0)\n",
    "predict(test_data)"
   ]
  },
  {
   "cell_type": "code",
   "execution_count": 14,
   "id": "c63affde-8a5a-4eae-8377-a477463dd9a7",
   "metadata": {},
   "outputs": [
    {
     "data": {
      "text/plain": [
       "(array([0.90068426]), 1)"
      ]
     },
     "execution_count": 14,
     "metadata": {},
     "output_type": "execute_result"
    }
   ],
   "source": [
    "test_data = np.array([7, 21])\n",
    "predict(test_data)"
   ]
  },
  {
   "cell_type": "code",
   "execution_count": null,
   "id": "5b9ed3c0-e8c6-46fb-8061-9a445ecbbda0",
   "metadata": {},
   "outputs": [],
   "source": [
    "test_data = np.array([3, 17])\n",
    "predict(test_data)"
   ]
  }
 ],
 "metadata": {
  "kernelspec": {
   "display_name": "Python 3",
   "language": "python",
   "name": "python3"
  },
  "language_info": {
   "codemirror_mode": {
    "name": "ipython",
    "version": 3
   },
   "file_extension": ".py",
   "mimetype": "text/x-python",
   "name": "python",
   "nbconvert_exporter": "python",
   "pygments_lexer": "ipython3",
   "version": "3.8.8"
  }
 },
 "nbformat": 4,
 "nbformat_minor": 5
}
